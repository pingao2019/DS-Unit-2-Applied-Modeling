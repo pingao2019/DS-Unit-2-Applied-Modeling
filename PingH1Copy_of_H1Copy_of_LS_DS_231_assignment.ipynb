{
  "nbformat": 4,
  "nbformat_minor": 0,
  "metadata": {
    "kernelspec": {
      "display_name": "Python 3",
      "language": "python",
      "name": "python3"
    },
    "language_info": {
      "codemirror_mode": {
        "name": "ipython",
        "version": 3
      },
      "file_extension": ".py",
      "mimetype": "text/x-python",
      "name": "python",
      "nbconvert_exporter": "python",
      "pygments_lexer": "ipython3",
      "version": "3.7.6"
    },
    "colab": {
      "name": "PingH1Copy of H1Copy of LS_DS_231_assignment.ipynb",
      "provenance": [],
      "include_colab_link": true
    }
  },
  "cells": [
    {
      "cell_type": "markdown",
      "metadata": {
        "id": "view-in-github",
        "colab_type": "text"
      },
      "source": [
        "<a href=\"https://colab.research.google.com/github/pingao2019/DS-Unit-2-Applied-Modeling/blob/master/PingH1Copy_of_H1Copy_of_LS_DS_231_assignment.ipynb\" target=\"_parent\"><img src=\"https://colab.research.google.com/assets/colab-badge.svg\" alt=\"Open In Colab\"/></a>"
      ]
    },
    {
      "cell_type": "markdown",
      "metadata": {
        "colab_type": "text",
        "id": "nCc3XZEyG3XV"
      },
      "source": [
        "Lambda School Data Science\n",
        "\n",
        "*Unit 2, Sprint 3, Module 1*\n",
        "\n",
        "---\n",
        "\n",
        "\n",
        "# Define ML problems\n",
        "\n",
        "You will use your portfolio project dataset for all assignments this sprint.\n",
        "\n",
        "## Assignment\n",
        "\n",
        "Complete these tasks for your project, and document your decisions.\n",
        "\n",
        "- [ ] Choose your target. Which column in your tabular dataset will you predict?\n",
        "- [ ] Is your problem regression or classification?\n",
        "- [ ] How is your target distributed?\n",
        "    - Classification: How many classes? Are the classes imbalanced?\n",
        "    - Regression: Is the target right-skewed? If so, you may want to log transform the target.\n",
        "- [ ] Choose your evaluation metric(s).\n",
        "    - Classification: Is your majority class frequency >= 50% and < 70% ? If so, you can just use accuracy if you want. Outside that range, accuracy could be misleading. What evaluation metric will you choose, in addition to or instead of accuracy?\n",
        "    - Regression: Will you use mean absolute error, root mean squared error, R^2, or other regression metrics?\n",
        "- [ ] Choose which observations you will use to train, validate, and test your model.\n",
        "    - Are some observations outliers? Will you exclude them?\n",
        "    - Will you do a random split or a time-based split?\n",
        "- [ ] Begin to clean and explore your data.\n",
        "- [ ] Begin to choose which features, if any, to exclude. Would some features \"leak\" future information?\n",
        "\n",
        "If you haven't found a dataset yet, do that today. [Review requirements for your portfolio project](https://lambdaschool.github.io/ds/unit2) and choose your dataset.\n",
        "\n",
        "Some students worry, ***what if my model isn't “good”?*** Then, [produce a detailed tribute to your wrongness. That is science!](https://twitter.com/nathanwpyle/status/1176860147223867393)"
      ]
    },
    {
      "cell_type": "markdown",
      "metadata": {
        "id": "-f604BpWQfH-",
        "colab_type": "text"
      },
      "source": [
        "My dataset is from https://data.unicef.org/resources/data_explorer/unicef_f/?ag=UNICEF&df=GLOBAL_DATAFLOW&ver=1.0&dq=.MNCH_MLRDIAG+PV+CME_MRY0T4+DM_LIFE_EXP+DM_POP_TOT+IM_BCG+ECD_CHLD_U5_BKS-HM+NT_ANT_HAZ_NE2+NT_BF_CBF_12_15+WS_HCF_C-B..&startPeriod=2010&endPeriod=2020"
      ]
    },
    {
      "cell_type": "code",
      "metadata": {
        "id": "_czxb4cTPGCF",
        "colab_type": "code",
        "outputId": "8011e52e-5eb6-4954-a27e-d2ad4b77f5b7",
        "colab": {
          "base_uri": "https://localhost:8080/",
          "height": 540
        }
      },
      "source": [
        "import pandas as pd\n",
        "df=pd.read_csv('DeathRateChildren.csv')\n",
        "print(df.shape)\n",
        "df.head()"
      ],
      "execution_count": 134,
      "outputs": [
        {
          "output_type": "stream",
          "text": [
            "(21402, 22)\n"
          ],
          "name": "stdout"
        },
        {
          "output_type": "execute_result",
          "data": {
            "text/html": [
              "<div>\n",
              "<style scoped>\n",
              "    .dataframe tbody tr th:only-of-type {\n",
              "        vertical-align: middle;\n",
              "    }\n",
              "\n",
              "    .dataframe tbody tr th {\n",
              "        vertical-align: top;\n",
              "    }\n",
              "\n",
              "    .dataframe thead th {\n",
              "        text-align: right;\n",
              "    }\n",
              "</style>\n",
              "<table border=\"1\" class=\"dataframe\">\n",
              "  <thead>\n",
              "    <tr style=\"text-align: right;\">\n",
              "      <th></th>\n",
              "      <th>Dataflow</th>\n",
              "      <th>Geographic Area</th>\n",
              "      <th>Indicator</th>\n",
              "      <th>Sex</th>\n",
              "      <th>Time Period</th>\n",
              "      <th>Observation Value</th>\n",
              "      <th>Unit Multiplier</th>\n",
              "      <th>Unit of Measure</th>\n",
              "      <th>Observation Status</th>\n",
              "      <th>Observation Confidentaility</th>\n",
              "      <th>Lower Bound</th>\n",
              "      <th>Upper Bound</th>\n",
              "      <th>Weighted Sample Size</th>\n",
              "      <th>Observation Footnote</th>\n",
              "      <th>Series Footnote</th>\n",
              "      <th>Data Source</th>\n",
              "      <th>Citation of or link to the data source</th>\n",
              "      <th>Custodian</th>\n",
              "      <th>Time period activity related to when the data are collected</th>\n",
              "      <th>Reference Period</th>\n",
              "      <th>The period of time for which data are provided</th>\n",
              "      <th>Current Age</th>\n",
              "    </tr>\n",
              "  </thead>\n",
              "  <tbody>\n",
              "    <tr>\n",
              "      <th>0</th>\n",
              "      <td>Cross-sector Indicators</td>\n",
              "      <td>Afghanistan</td>\n",
              "      <td>Neonatal deaths</td>\n",
              "      <td>Total</td>\n",
              "      <td>1986-06</td>\n",
              "      <td>48492</td>\n",
              "      <td>NaN</td>\n",
              "      <td>Number of deaths</td>\n",
              "      <td>Normal value</td>\n",
              "      <td>NaN</td>\n",
              "      <td>42352</td>\n",
              "      <td>55567</td>\n",
              "      <td>NaN</td>\n",
              "      <td>NaN</td>\n",
              "      <td>NaN</td>\n",
              "      <td>NaN</td>\n",
              "      <td>NaN</td>\n",
              "      <td>NaN</td>\n",
              "      <td>NaN</td>\n",
              "      <td>NaN</td>\n",
              "      <td>NaN</td>\n",
              "      <td>Total</td>\n",
              "    </tr>\n",
              "    <tr>\n",
              "      <th>1</th>\n",
              "      <td>Cross-sector Indicators</td>\n",
              "      <td>Afghanistan</td>\n",
              "      <td>Neonatal deaths</td>\n",
              "      <td>Total</td>\n",
              "      <td>1987-06</td>\n",
              "      <td>47726</td>\n",
              "      <td>NaN</td>\n",
              "      <td>Number of deaths</td>\n",
              "      <td>Normal value</td>\n",
              "      <td>NaN</td>\n",
              "      <td>42109</td>\n",
              "      <td>54316</td>\n",
              "      <td>NaN</td>\n",
              "      <td>NaN</td>\n",
              "      <td>NaN</td>\n",
              "      <td>NaN</td>\n",
              "      <td>NaN</td>\n",
              "      <td>NaN</td>\n",
              "      <td>NaN</td>\n",
              "      <td>NaN</td>\n",
              "      <td>NaN</td>\n",
              "      <td>Total</td>\n",
              "    </tr>\n",
              "    <tr>\n",
              "      <th>2</th>\n",
              "      <td>Cross-sector Indicators</td>\n",
              "      <td>Afghanistan</td>\n",
              "      <td>Neonatal deaths</td>\n",
              "      <td>Total</td>\n",
              "      <td>1988-06</td>\n",
              "      <td>47479</td>\n",
              "      <td>NaN</td>\n",
              "      <td>Number of deaths</td>\n",
              "      <td>Normal value</td>\n",
              "      <td>NaN</td>\n",
              "      <td>42144</td>\n",
              "      <td>53644</td>\n",
              "      <td>NaN</td>\n",
              "      <td>NaN</td>\n",
              "      <td>NaN</td>\n",
              "      <td>NaN</td>\n",
              "      <td>NaN</td>\n",
              "      <td>NaN</td>\n",
              "      <td>NaN</td>\n",
              "      <td>NaN</td>\n",
              "      <td>NaN</td>\n",
              "      <td>Total</td>\n",
              "    </tr>\n",
              "    <tr>\n",
              "      <th>3</th>\n",
              "      <td>Cross-sector Indicators</td>\n",
              "      <td>Afghanistan</td>\n",
              "      <td>Neonatal deaths</td>\n",
              "      <td>Total</td>\n",
              "      <td>1989-06</td>\n",
              "      <td>47797</td>\n",
              "      <td>NaN</td>\n",
              "      <td>Number of deaths</td>\n",
              "      <td>Normal value</td>\n",
              "      <td>NaN</td>\n",
              "      <td>42604</td>\n",
              "      <td>53679</td>\n",
              "      <td>NaN</td>\n",
              "      <td>NaN</td>\n",
              "      <td>NaN</td>\n",
              "      <td>NaN</td>\n",
              "      <td>NaN</td>\n",
              "      <td>NaN</td>\n",
              "      <td>NaN</td>\n",
              "      <td>NaN</td>\n",
              "      <td>NaN</td>\n",
              "      <td>Total</td>\n",
              "    </tr>\n",
              "    <tr>\n",
              "      <th>4</th>\n",
              "      <td>Cross-sector Indicators</td>\n",
              "      <td>Afghanistan</td>\n",
              "      <td>Neonatal deaths</td>\n",
              "      <td>Total</td>\n",
              "      <td>1990-06</td>\n",
              "      <td>48642</td>\n",
              "      <td>NaN</td>\n",
              "      <td>Number of deaths</td>\n",
              "      <td>Normal value</td>\n",
              "      <td>NaN</td>\n",
              "      <td>43607</td>\n",
              "      <td>54196</td>\n",
              "      <td>NaN</td>\n",
              "      <td>NaN</td>\n",
              "      <td>NaN</td>\n",
              "      <td>NaN</td>\n",
              "      <td>NaN</td>\n",
              "      <td>NaN</td>\n",
              "      <td>NaN</td>\n",
              "      <td>NaN</td>\n",
              "      <td>NaN</td>\n",
              "      <td>Total</td>\n",
              "    </tr>\n",
              "  </tbody>\n",
              "</table>\n",
              "</div>"
            ],
            "text/plain": [
              "                  Dataflow  ... Current Age\n",
              "0  Cross-sector Indicators  ...       Total\n",
              "1  Cross-sector Indicators  ...       Total\n",
              "2  Cross-sector Indicators  ...       Total\n",
              "3  Cross-sector Indicators  ...       Total\n",
              "4  Cross-sector Indicators  ...       Total\n",
              "\n",
              "[5 rows x 22 columns]"
            ]
          },
          "metadata": {
            "tags": []
          },
          "execution_count": 134
        }
      ]
    },
    {
      "cell_type": "markdown",
      "metadata": {
        "id": "ExHe2YgycKqK",
        "colab_type": "text"
      },
      "source": [
        "###My target is Indicator, and this data should be multi-class classification."
      ]
    },
    {
      "cell_type": "code",
      "metadata": {
        "id": "WGV9JcRfuUtT",
        "colab_type": "code",
        "outputId": "d0f37ef7-b796-494e-db61-bcd8f9bbe874",
        "colab": {
          "base_uri": "https://localhost:8080/",
          "height": 439
        }
      },
      "source": [
        "df.isnull().sum()"
      ],
      "execution_count": 109,
      "outputs": [
        {
          "output_type": "execute_result",
          "data": {
            "text/plain": [
              "Dataflow                                                           0\n",
              "Geographic Area                                                    0\n",
              "Indicator                                                          0\n",
              "Sex                                                                0\n",
              "Time Period                                                        0\n",
              "Observation Value                                                  0\n",
              "Unit Multiplier                                                36611\n",
              "Unit of Measure                                                    0\n",
              "Observation Status                                                 0\n",
              "Observation Confidentaility                                    36611\n",
              "Lower Bound                                                        0\n",
              "Upper Bound                                                        0\n",
              "Weighted Sample Size                                           36611\n",
              "Observation Footnote                                           36611\n",
              "Series Footnote                                                36611\n",
              "Data Source                                                    36611\n",
              "Citation of or link to the data source                         36611\n",
              "Custodian                                                      36611\n",
              "Time period activity related to when the data are collected    36611\n",
              "Reference Period                                               36611\n",
              "The period of time for which data are provided                 36611\n",
              "Current Age                                                        0\n",
              "dtype: int64"
            ]
          },
          "metadata": {
            "tags": []
          },
          "execution_count": 109
        }
      ]
    },
    {
      "cell_type": "code",
      "metadata": {
        "id": "sdAtvuIZQuYh",
        "colab_type": "code",
        "outputId": "1cd18d40-31d7-4854-a53f-77aaffbcb01d",
        "colab": {
          "base_uri": "https://localhost:8080/",
          "height": 421
        }
      },
      "source": [
        "df.columns.to_list()"
      ],
      "execution_count": 82,
      "outputs": [
        {
          "output_type": "execute_result",
          "data": {
            "text/plain": [
              "['Dataflow',\n",
              " 'Geographic Area',\n",
              " 'Indicator',\n",
              " 'Sex',\n",
              " 'Time Period',\n",
              " 'Observation Value',\n",
              " 'Unit Multiplier',\n",
              " 'Unit of Measure',\n",
              " 'Observation Status',\n",
              " 'Observation Confidentaility',\n",
              " 'Lower Bound',\n",
              " 'Upper Bound',\n",
              " 'Weighted Sample Size',\n",
              " 'Observation Footnote',\n",
              " 'Series Footnote',\n",
              " 'Data Source',\n",
              " 'Citation of or link to the data source',\n",
              " 'Custodian',\n",
              " 'Time period activity related to when the data are collected',\n",
              " 'Reference Period',\n",
              " 'The period of time for which data are provided',\n",
              " 'Current Age']"
            ]
          },
          "metadata": {
            "tags": []
          },
          "execution_count": 82
        }
      ]
    },
    {
      "cell_type": "code",
      "metadata": {
        "id": "8W7HXsQzQuPS",
        "colab_type": "code",
        "colab": {}
      },
      "source": [
        "df= df.drop(columns=[\n",
        " 'Dataflow',\n",
        " 'Observation Value',\n",
        " 'Unit Multiplier',\n",
        "\n",
        " 'Observation Confidentaility',\n",
        " \n",
        " 'Weighted Sample Size',\n",
        " 'Observation Footnote',\n",
        " 'Series Footnote',\n",
        " 'Data Source',\n",
        " 'Citation of or link to the data source',\n",
        " 'Custodian',\n",
        " 'Time period activity related to when the data are collected',\n",
        " 'Reference Period',\n",
        " 'The period of time for which data are provided'])"
      ],
      "execution_count": 0,
      "outputs": []
    },
    {
      "cell_type": "code",
      "metadata": {
        "id": "34b1mKRXQuJo",
        "colab_type": "code",
        "outputId": "e628d78c-608e-47b7-cf02-2d358532fd0a",
        "colab": {
          "base_uri": "https://localhost:8080/",
          "height": 35
        }
      },
      "source": [
        "df.shape"
      ],
      "execution_count": 136,
      "outputs": [
        {
          "output_type": "execute_result",
          "data": {
            "text/plain": [
              "(21402, 9)"
            ]
          },
          "metadata": {
            "tags": []
          },
          "execution_count": 136
        }
      ]
    },
    {
      "cell_type": "code",
      "metadata": {
        "id": "MLfwJFMvaOTs",
        "colab_type": "code",
        "outputId": "ecd987d7-2f2a-4c18-edd5-b403586934b7",
        "colab": {
          "base_uri": "https://localhost:8080/",
          "height": 182
        }
      },
      "source": [
        "df.columns.to_list()"
      ],
      "execution_count": 112,
      "outputs": [
        {
          "output_type": "execute_result",
          "data": {
            "text/plain": [
              "['Geographic Area',\n",
              " 'Indicator',\n",
              " 'Sex',\n",
              " 'Time Period',\n",
              " 'Unit of Measure',\n",
              " 'Observation Status',\n",
              " 'Lower Bound',\n",
              " 'Upper Bound',\n",
              " 'Current Age']"
            ]
          },
          "metadata": {
            "tags": []
          },
          "execution_count": 112
        }
      ]
    },
    {
      "cell_type": "code",
      "metadata": {
        "id": "gbGLu3Lehaam",
        "colab_type": "code",
        "outputId": "2ff75c6f-aa0b-42f7-fab0-f904597abc96",
        "colab": {
          "base_uri": "https://localhost:8080/",
          "height": 844
        }
      },
      "source": [
        "df['Geographic Area'].unique()"
      ],
      "execution_count": 87,
      "outputs": [
        {
          "output_type": "execute_result",
          "data": {
            "text/plain": [
              "array(['Afghanistan', 'Angola', 'Albania', 'Andorra',\n",
              "       'United Arab Emirates', 'Argentina', 'Armenia',\n",
              "       'Antigua and Barbuda', 'Australia', 'Austria', 'Azerbaijan',\n",
              "       'Burundi', 'Belgium', 'Benin', 'Burkina Faso', 'Bangladesh',\n",
              "       'Bulgaria', 'Bahrain', 'Bahamas', 'Bosnia and Herzegovina',\n",
              "       'Belarus', 'Belize', 'Bolivia (Plurinational State of)', 'Brazil',\n",
              "       'Barbados', 'Brunei Darussalam', 'Bhutan', 'Botswana',\n",
              "       'Central African Republic', 'Canada', 'Switzerland', 'Chile',\n",
              "       'China', \"Côte d'Ivoire\", 'Cameroon',\n",
              "       'Democratic Republic of the Congo', 'Congo', 'Cook Islands',\n",
              "       'Colombia', 'Comoros', 'Cabo Verde', 'Costa Rica', 'Cuba',\n",
              "       'Cyprus', 'Czechia', 'Germany', 'Djibouti', 'Dominica', 'Denmark',\n",
              "       'Dominican Republic', 'Algeria', 'Ecuador', 'Egypt', 'Eritrea',\n",
              "       'Spain', 'Estonia', 'Ethiopia', 'Finland', 'Fiji', 'France',\n",
              "       'Micronesia (Federated States of)', 'Gabon', 'United Kingdom',\n",
              "       'Georgia', 'Ghana', 'Guinea', 'Gambia', 'Guinea-Bissau',\n",
              "       'Equatorial Guinea', 'Greece', 'Grenada', 'Guatemala', 'Guyana',\n",
              "       'Honduras', 'Croatia', 'Haiti', 'Hungary', 'Indonesia', 'India',\n",
              "       'Ireland', 'Iran (Islamic Republic of)', 'Iraq', 'Iceland',\n",
              "       'Israel', 'Italy', 'Jamaica', 'Jordan', 'Japan', 'Kazakhstan',\n",
              "       'Kenya', 'Kyrgyzstan', 'Cambodia', 'Kiribati',\n",
              "       'Saint Kitts and Nevis', 'Republic of Korea', 'Kuwait',\n",
              "       \"Lao People's Democratic Republic\", 'Lebanon', 'Liberia', 'Libya',\n",
              "       'Saint Lucia', 'Sri Lanka', 'Lesotho', 'Lithuania', 'Luxembourg',\n",
              "       'Latvia', 'Morocco', 'Monaco', 'Republic of Moldova', 'Madagascar',\n",
              "       'Maldives', 'Mexico', 'Marshall Islands', 'North Macedonia',\n",
              "       'Mali', 'Malta', 'Myanmar', 'Montenegro', 'Mongolia', 'Mozambique',\n",
              "       'Mauritania', 'Mauritius', 'Malawi', 'Malaysia', 'Namibia',\n",
              "       'Niger', 'Nigeria', 'Nicaragua', 'Niue', 'Netherlands', 'Norway',\n",
              "       'Nepal', 'Nauru', 'New Zealand', 'Oman', 'Pakistan', 'Panama',\n",
              "       'Peru', 'Philippines', 'Palau', 'Papua New Guinea', 'Poland',\n",
              "       \"Democratic People's Republic of Korea\", 'Portugal', 'Paraguay',\n",
              "       'State of Palestine', 'Qatar', 'Romania', 'Russian Federation',\n",
              "       'Rwanda', 'Saudi Arabia', 'Sudan', 'Senegal', 'Singapore',\n",
              "       'Solomon Islands', 'Sierra Leone', 'El Salvador', 'San Marino',\n",
              "       'Somalia', 'Serbia', 'South Sudan', 'Sao Tome and Principe',\n",
              "       'Suriname', 'Slovakia', 'Slovenia', 'Sweden', 'Eswatini',\n",
              "       'Seychelles', 'Syrian Arab Republic', 'Chad', 'Togo', 'Thailand',\n",
              "       'Tajikistan', 'Turkmenistan', 'Timor-Leste', 'Tonga',\n",
              "       'Trinidad and Tobago', 'Tunisia', 'Turkey', 'Tuvalu',\n",
              "       'United Republic of Tanzania', 'Uganda', 'Ukraine', 'Uruguay',\n",
              "       'United States', 'Uzbekistan', 'Saint Vincent and the Grenadines',\n",
              "       'Venezuela (Bolivarian Republic of)', 'Viet Nam', 'Vanuatu',\n",
              "       'Samoa', 'Yemen', 'South Africa', 'Zambia', 'Zimbabwe'],\n",
              "      dtype=object)"
            ]
          },
          "metadata": {
            "tags": []
          },
          "execution_count": 87
        }
      ]
    },
    {
      "cell_type": "code",
      "metadata": {
        "id": "8nVL-Y4zP_af",
        "colab_type": "code",
        "outputId": "1944b216-0b1d-40b8-a5d9-91400820ccf6",
        "colab": {
          "base_uri": "https://localhost:8080/",
          "height": 35
        }
      },
      "source": [
        "df['Sex'].unique()"
      ],
      "execution_count": 137,
      "outputs": [
        {
          "output_type": "execute_result",
          "data": {
            "text/plain": [
              "array(['Total'], dtype=object)"
            ]
          },
          "metadata": {
            "tags": []
          },
          "execution_count": 137
        }
      ]
    },
    {
      "cell_type": "code",
      "metadata": {
        "id": "GFtXXonkiLKI",
        "colab_type": "code",
        "colab": {
          "base_uri": "https://localhost:8080/",
          "height": 146
        },
        "outputId": "d063ef16-431c-4b9c-aad9-f29098330bf8"
      },
      "source": [
        "df['Time Period'].unique()"
      ],
      "execution_count": 89,
      "outputs": [
        {
          "output_type": "execute_result",
          "data": {
            "text/plain": [
              "array(['1980-06', '1981-06', '1982-06', '1983-06', '1984-06', '1985-06',\n",
              "       '1986-06', '1987-06', '1988-06', '1989-06', '1990-06', '1991-06',\n",
              "       '1992-06', '1993-06', '1994-06', '1995-06', '1996-06', '1997-06',\n",
              "       '1998-06', '1999-06', '2000-06', '2001-06', '2002-06', '2003-06',\n",
              "       '2004-06', '2005-06', '2006-06', '2007-06', '2008-06', '2009-06',\n",
              "       '2010-06', '2011-06', '2012-06', '2013-06', '2014-06', '2015-06',\n",
              "       '2016-06', '2017-06', '2018-06'], dtype=object)"
            ]
          },
          "metadata": {
            "tags": []
          },
          "execution_count": 89
        }
      ]
    },
    {
      "cell_type": "code",
      "metadata": {
        "id": "96CAH9h-iqYO",
        "colab_type": "code",
        "colab": {
          "base_uri": "https://localhost:8080/",
          "height": 752
        },
        "outputId": "24ed91b6-d85a-4385-f03b-fc908a009167"
      },
      "source": [
        "df['Time Period'].value_counts()"
      ],
      "execution_count": 90,
      "outputs": [
        {
          "output_type": "execute_result",
          "data": {
            "text/plain": [
              "1998-06    390\n",
              "1987-06    390\n",
              "2002-06    390\n",
              "1999-06    390\n",
              "1996-06    390\n",
              "1991-06    390\n",
              "2016-06    390\n",
              "1997-06    390\n",
              "2006-06    390\n",
              "2004-06    390\n",
              "2008-06    390\n",
              "2015-06    390\n",
              "1992-06    390\n",
              "1994-06    390\n",
              "1995-06    390\n",
              "2010-06    390\n",
              "2001-06    390\n",
              "2011-06    390\n",
              "2005-06    390\n",
              "2014-06    390\n",
              "1988-06    390\n",
              "2018-06    390\n",
              "2007-06    390\n",
              "2009-06    390\n",
              "1993-06    390\n",
              "2000-06    390\n",
              "2003-06    390\n",
              "2012-06    390\n",
              "1990-06    390\n",
              "1986-06    390\n",
              "2013-06    390\n",
              "1989-06    390\n",
              "1985-06    390\n",
              "2017-06    390\n",
              "1984-06    368\n",
              "1983-06    360\n",
              "1982-06    356\n",
              "1981-06    350\n",
              "1980-06    338\n",
              "Name: Time Period, dtype: int64"
            ]
          },
          "metadata": {
            "tags": []
          },
          "execution_count": 90
        }
      ]
    },
    {
      "cell_type": "code",
      "metadata": {
        "id": "FSnU7hpUi9Hp",
        "colab_type": "code",
        "colab": {
          "base_uri": "https://localhost:8080/",
          "height": 54
        },
        "outputId": "0eb84bcd-75a1-4f9a-9cbc-748963427899"
      },
      "source": [
        "df['Unit of Measure'].value_counts()"
      ],
      "execution_count": 91,
      "outputs": [
        {
          "output_type": "execute_result",
          "data": {
            "text/plain": [
              "Deaths per 1000 live births    15032\n",
              "Name: Unit of Measure, dtype: int64"
            ]
          },
          "metadata": {
            "tags": []
          },
          "execution_count": 91
        }
      ]
    },
    {
      "cell_type": "code",
      "metadata": {
        "id": "-PcweWKdjKeU",
        "colab_type": "code",
        "colab": {
          "base_uri": "https://localhost:8080/",
          "height": 35
        },
        "outputId": "1e389e09-6bf0-452e-b536-e328418ede8f"
      },
      "source": [
        "df['Observation Status'].unique()"
      ],
      "execution_count": 138,
      "outputs": [
        {
          "output_type": "execute_result",
          "data": {
            "text/plain": [
              "array(['Normal value'], dtype=object)"
            ]
          },
          "metadata": {
            "tags": []
          },
          "execution_count": 138
        }
      ]
    },
    {
      "cell_type": "code",
      "metadata": {
        "id": "19q8XaLxjj5L",
        "colab_type": "code",
        "colab": {
          "base_uri": "https://localhost:8080/",
          "height": 35
        },
        "outputId": "e3c7fb41-9ec0-4804-9a6b-1029885b6492"
      },
      "source": [
        "df['Lower Bound'].unique()\n"
      ],
      "execution_count": 139,
      "outputs": [
        {
          "output_type": "execute_result",
          "data": {
            "text/plain": [
              "array([42352, 42109, 42144, ...,  3545,  3357,  3219])"
            ]
          },
          "metadata": {
            "tags": []
          },
          "execution_count": 139
        }
      ]
    },
    {
      "cell_type": "code",
      "metadata": {
        "id": "bdlye6cSay5P",
        "colab_type": "code",
        "outputId": "4429360d-1b43-4d50-afa5-0d0c1658107e",
        "colab": {
          "base_uri": "https://localhost:8080/",
          "height": 35
        }
      },
      "source": [
        "df['Current Age'].unique()"
      ],
      "execution_count": 140,
      "outputs": [
        {
          "output_type": "execute_result",
          "data": {
            "text/plain": [
              "array(['Total'], dtype=object)"
            ]
          },
          "metadata": {
            "tags": []
          },
          "execution_count": 140
        }
      ]
    },
    {
      "cell_type": "code",
      "metadata": {
        "id": "T_42BBlslBB9",
        "colab_type": "code",
        "colab": {}
      },
      "source": [
        "#Current Age has not unique value. So drop it.\n",
        "df=df.drop(columns='Current Age')"
      ],
      "execution_count": 0,
      "outputs": []
    },
    {
      "cell_type": "code",
      "metadata": {
        "id": "kxuIt81xly71",
        "colab_type": "code",
        "colab": {}
      },
      "source": [
        "import numpy as np\n"
      ],
      "execution_count": 0,
      "outputs": []
    },
    {
      "cell_type": "code",
      "metadata": {
        "id": "Ls2m1onUllWL",
        "colab_type": "code",
        "colab": {
          "base_uri": "https://localhost:8080/",
          "height": 300
        },
        "outputId": "6fb57f71-589b-47b4-a855-9be179af2e8d"
      },
      "source": [
        "df.describe()"
      ],
      "execution_count": 141,
      "outputs": [
        {
          "output_type": "execute_result",
          "data": {
            "text/html": [
              "<div>\n",
              "<style scoped>\n",
              "    .dataframe tbody tr th:only-of-type {\n",
              "        vertical-align: middle;\n",
              "    }\n",
              "\n",
              "    .dataframe tbody tr th {\n",
              "        vertical-align: top;\n",
              "    }\n",
              "\n",
              "    .dataframe thead th {\n",
              "        text-align: right;\n",
              "    }\n",
              "</style>\n",
              "<table border=\"1\" class=\"dataframe\">\n",
              "  <thead>\n",
              "    <tr style=\"text-align: right;\">\n",
              "      <th></th>\n",
              "      <th>Lower Bound</th>\n",
              "      <th>Upper Bound</th>\n",
              "    </tr>\n",
              "  </thead>\n",
              "  <tbody>\n",
              "    <tr>\n",
              "      <th>count</th>\n",
              "      <td>2.140200e+04</td>\n",
              "      <td>2.140200e+04</td>\n",
              "    </tr>\n",
              "    <tr>\n",
              "      <th>mean</th>\n",
              "      <td>1.324166e+04</td>\n",
              "      <td>1.646780e+04</td>\n",
              "    </tr>\n",
              "    <tr>\n",
              "      <th>std</th>\n",
              "      <td>6.954945e+04</td>\n",
              "      <td>7.904359e+04</td>\n",
              "    </tr>\n",
              "    <tr>\n",
              "      <th>min</th>\n",
              "      <td>0.000000e+00</td>\n",
              "      <td>0.000000e+00</td>\n",
              "    </tr>\n",
              "    <tr>\n",
              "      <th>25%</th>\n",
              "      <td>1.090000e+02</td>\n",
              "      <td>1.360000e+02</td>\n",
              "    </tr>\n",
              "    <tr>\n",
              "      <th>50%</th>\n",
              "      <td>8.570000e+02</td>\n",
              "      <td>1.219000e+03</td>\n",
              "    </tr>\n",
              "    <tr>\n",
              "      <th>75%</th>\n",
              "      <td>6.801250e+03</td>\n",
              "      <td>9.203750e+03</td>\n",
              "    </tr>\n",
              "    <tr>\n",
              "      <th>max</th>\n",
              "      <td>1.723333e+06</td>\n",
              "      <td>1.938550e+06</td>\n",
              "    </tr>\n",
              "  </tbody>\n",
              "</table>\n",
              "</div>"
            ],
            "text/plain": [
              "        Lower Bound   Upper Bound\n",
              "count  2.140200e+04  2.140200e+04\n",
              "mean   1.324166e+04  1.646780e+04\n",
              "std    6.954945e+04  7.904359e+04\n",
              "min    0.000000e+00  0.000000e+00\n",
              "25%    1.090000e+02  1.360000e+02\n",
              "50%    8.570000e+02  1.219000e+03\n",
              "75%    6.801250e+03  9.203750e+03\n",
              "max    1.723333e+06  1.938550e+06"
            ]
          },
          "metadata": {
            "tags": []
          },
          "execution_count": 141
        }
      ]
    },
    {
      "cell_type": "code",
      "metadata": {
        "id": "sgaQdcvXkNng",
        "colab_type": "code",
        "colab": {
          "base_uri": "https://localhost:8080/",
          "height": 237
        },
        "outputId": "920acfc1-9739-4d7a-a7b2-4c9afa6a3aac"
      },
      "source": [
        "df['Upper Bound'].value_counts()"
      ],
      "execution_count": 98,
      "outputs": [
        {
          "output_type": "execute_result",
          "data": {
            "text/plain": [
              "250.994305    1\n",
              "10.921845     1\n",
              "74.731769     1\n",
              "37.278082     1\n",
              "147.234488    1\n",
              "             ..\n",
              "81.537751     1\n",
              "92.034423     1\n",
              "34.309058     1\n",
              "3.770153      1\n",
              "86.347094     1\n",
              "Name: Upper Bound, Length: 15032, dtype: int64"
            ]
          },
          "metadata": {
            "tags": []
          },
          "execution_count": 98
        }
      ]
    },
    {
      "cell_type": "code",
      "metadata": {
        "id": "A5ULOmdjkgMB",
        "colab_type": "code",
        "colab": {}
      },
      "source": [
        ""
      ],
      "execution_count": 0,
      "outputs": []
    },
    {
      "cell_type": "code",
      "metadata": {
        "id": "qG1mgh1-0KC1",
        "colab_type": "code",
        "outputId": "6c2296dd-245d-412c-bf1b-976de3b6a6a5",
        "colab": {
          "base_uri": "https://localhost:8080/",
          "height": 90
        }
      },
      "source": [
        "df['Indicator'].value_counts()"
      ],
      "execution_count": 114,
      "outputs": [
        {
          "output_type": "execute_result",
          "data": {
            "text/plain": [
              "Under-five mortality rate      22550\n",
              "Neonatal deaths                 7075\n",
              "Deaths (children aged 5-14)     6986\n",
              "Name: Indicator, dtype: int64"
            ]
          },
          "metadata": {
            "tags": []
          },
          "execution_count": 114
        }
      ]
    },
    {
      "cell_type": "code",
      "metadata": {
        "id": "yrj-25bys6v5",
        "colab_type": "code",
        "colab": {}
      },
      "source": [
        "df=df.drop(columns = ['Unit of Measure', 'Observation Status','Sex'] )"
      ],
      "execution_count": 0,
      "outputs": []
    },
    {
      "cell_type": "code",
      "metadata": {
        "id": "snNpYXVAuu_o",
        "colab_type": "code",
        "colab": {}
      },
      "source": [
        "df=df.drop(columns='Current Age')"
      ],
      "execution_count": 0,
      "outputs": []
    },
    {
      "cell_type": "code",
      "metadata": {
        "id": "tk9KjnB3uEeU",
        "colab_type": "code",
        "colab": {
          "base_uri": "https://localhost:8080/",
          "height": 35
        },
        "outputId": "1ae1283d-7dc0-4cb5-a0fe-0ae6bf203d5f"
      },
      "source": [
        "df.shape"
      ],
      "execution_count": 190,
      "outputs": [
        {
          "output_type": "execute_result",
          "data": {
            "text/plain": [
              "(21402, 5)"
            ]
          },
          "metadata": {
            "tags": []
          },
          "execution_count": 190
        }
      ]
    },
    {
      "cell_type": "code",
      "metadata": {
        "id": "p4mpCCQoujzq",
        "colab_type": "code",
        "colab": {
          "base_uri": "https://localhost:8080/",
          "height": 72
        },
        "outputId": "83c2fcaf-6cce-4f9a-dc3e-1dde398a8d0c"
      },
      "source": [
        "df.columns.to_list"
      ],
      "execution_count": 188,
      "outputs": [
        {
          "output_type": "execute_result",
          "data": {
            "text/plain": [
              "<bound method IndexOpsMixin.tolist of Index(['Geographic Area', 'Indicator', 'Time Period', 'Lower Bound',\n",
              "       'Upper Bound', 'Current Age'],\n",
              "      dtype='object')>"
            ]
          },
          "metadata": {
            "tags": []
          },
          "execution_count": 188
        }
      ]
    },
    {
      "cell_type": "code",
      "metadata": {
        "id": "nX8ealfJhNmY",
        "colab_type": "code",
        "colab": {
          "base_uri": "https://localhost:8080/",
          "height": 109
        },
        "outputId": "6af2f756-b355-4fa1-fdea-6856d64b355f"
      },
      "source": [
        "df.groupby('Sex')['Indicator'].value_counts()"
      ],
      "execution_count": 142,
      "outputs": [
        {
          "output_type": "execute_result",
          "data": {
            "text/plain": [
              "Sex    Indicator                    \n",
              "Total  Child deaths (aged 1-4 years)    7341\n",
              "       Neonatal deaths                  7075\n",
              "       Deaths (children aged 5-14)      6986\n",
              "Name: Indicator, dtype: int64"
            ]
          },
          "metadata": {
            "tags": []
          },
          "execution_count": 142
        }
      ]
    },
    {
      "cell_type": "code",
      "metadata": {
        "id": "c3HKf8GRP_ka",
        "colab_type": "code",
        "colab": {
          "base_uri": "https://localhost:8080/",
          "height": 35
        },
        "outputId": "a438131f-192c-41ca-9026-fc07d02e47be"
      },
      "source": [
        "df['Indicator'].value_counts(normalize=True).max()\n"
      ],
      "execution_count": 143,
      "outputs": [
        {
          "output_type": "execute_result",
          "data": {
            "text/plain": [
              "0.34300532660499017"
            ]
          },
          "metadata": {
            "tags": []
          },
          "execution_count": 143
        }
      ]
    },
    {
      "cell_type": "markdown",
      "metadata": {
        "id": "a-kl66GzUXk3",
        "colab_type": "text"
      },
      "source": [
        "So the major class have between 0.5 -0.75 ratio.The classes is balanced.So I can just use accuracy."
      ]
    },
    {
      "cell_type": "markdown",
      "metadata": {
        "id": "Hp9JcU9zelk5",
        "colab_type": "text"
      },
      "source": [
        "### Lower bound and Upper Bound are numberic data. From following I will check whether they are outliers.  Do I need  exclude them? "
      ]
    },
    {
      "cell_type": "code",
      "metadata": {
        "id": "NAUp68N7whmc",
        "colab_type": "code",
        "colab": {
          "base_uri": "https://localhost:8080/",
          "height": 219
        },
        "outputId": "f9f4b310-9e62-46a0-81a2-3820e079d318"
      },
      "source": [
        "!pip install category_encoders==2.*"
      ],
      "execution_count": 102,
      "outputs": [
        {
          "output_type": "stream",
          "text": [
            "Requirement already satisfied: category_encoders==2.* in /usr/local/lib/python3.6/dist-packages (2.1.0)\n",
            "Requirement already satisfied: scipy>=0.19.0 in /usr/local/lib/python3.6/dist-packages (from category_encoders==2.*) (1.4.1)\n",
            "Requirement already satisfied: pandas>=0.21.1 in /usr/local/lib/python3.6/dist-packages (from category_encoders==2.*) (0.25.3)\n",
            "Requirement already satisfied: scikit-learn>=0.20.0 in /usr/local/lib/python3.6/dist-packages (from category_encoders==2.*) (0.22.1)\n",
            "Requirement already satisfied: numpy>=1.11.3 in /usr/local/lib/python3.6/dist-packages (from category_encoders==2.*) (1.17.5)\n",
            "Requirement already satisfied: patsy>=0.4.1 in /usr/local/lib/python3.6/dist-packages (from category_encoders==2.*) (0.5.1)\n",
            "Requirement already satisfied: statsmodels>=0.6.1 in /usr/local/lib/python3.6/dist-packages (from category_encoders==2.*) (0.10.2)\n",
            "Requirement already satisfied: pytz>=2017.2 in /usr/local/lib/python3.6/dist-packages (from pandas>=0.21.1->category_encoders==2.*) (2018.9)\n",
            "Requirement already satisfied: python-dateutil>=2.6.1 in /usr/local/lib/python3.6/dist-packages (from pandas>=0.21.1->category_encoders==2.*) (2.6.1)\n",
            "Requirement already satisfied: joblib>=0.11 in /usr/local/lib/python3.6/dist-packages (from scikit-learn>=0.20.0->category_encoders==2.*) (0.14.1)\n",
            "Requirement already satisfied: six in /usr/local/lib/python3.6/dist-packages (from patsy>=0.4.1->category_encoders==2.*) (1.12.0)\n"
          ],
          "name": "stdout"
        }
      ]
    },
    {
      "cell_type": "code",
      "metadata": {
        "id": "uvd1g22obm7K",
        "colab_type": "code",
        "colab": {}
      },
      "source": [
        "y=df['Indicator']"
      ],
      "execution_count": 0,
      "outputs": []
    },
    {
      "cell_type": "code",
      "metadata": {
        "id": "5gLgLtKCaPxY",
        "colab_type": "code",
        "colab": {}
      },
      "source": [
        "from sklearn.model_selection import train_test_split\n",
        "#X_train, X_test, y_train, y_test = train_test_split(df, y, test_size=0.2)\n",
        "#print (X_train.shape, y_train.shape)\n",
        "#print (X_test.shape, y_test.shape)\n",
        "\n"
      ],
      "execution_count": 0,
      "outputs": []
    },
    {
      "cell_type": "code",
      "metadata": {
        "id": "hDrf_ZmIb8k1",
        "colab_type": "code",
        "colab": {}
      },
      "source": [
        "\n",
        "\n",
        "X_train, X_test, y_train, y_test = train_test_split(df, y, test_size=0.2, random_state=1)\n",
        "\n",
        "X_train, X_val, y_train, y_val = train_test_split(X_train, y_train, test_size=0.2, random_state=1)"
      ],
      "execution_count": 0,
      "outputs": []
    },
    {
      "cell_type": "code",
      "metadata": {
        "id": "6K065oBcfRVI",
        "colab_type": "code",
        "colab": {
          "base_uri": "https://localhost:8080/",
          "height": 72
        },
        "outputId": "2195133a-f46d-4a62-c7b1-42f0c43d4f84"
      },
      "source": [
        "print (X_train.shape, y_train.shape)\n",
        "print (X_val.shape, y_val.shape)\n",
        "print (X_test.shape, y_test.shape)"
      ],
      "execution_count": 194,
      "outputs": [
        {
          "output_type": "stream",
          "text": [
            "(13696, 5) (13696,)\n",
            "(3425, 5) (3425,)\n",
            "(4281, 5) (4281,)\n"
          ],
          "name": "stdout"
        }
      ]
    },
    {
      "cell_type": "code",
      "metadata": {
        "id": "2dVVKeVhyzNe",
        "colab_type": "code",
        "colab": {}
      },
      "source": [
        "%matplotlib inline\n",
        "import category_encoders as ce\n",
        "import matplotlib.pyplot as plt\n",
        "import numpy as np\n",
        "import pandas as pd\n",
        "import seaborn as sns\n",
        "from sklearn.impute import SimpleImputer\n",
        "from sklearn.metrics import accuracy_score\n",
        "from sklearn.model_selection import train_test_split\n",
        "from sklearn.pipeline import make_pipeline\n",
        "from sklearn.tree import DecisionTreeClassifier\n"
      ],
      "execution_count": 0,
      "outputs": []
    },
    {
      "cell_type": "code",
      "metadata": {
        "id": "5kAARZAZuhOH",
        "colab_type": "code",
        "colab": {
          "base_uri": "https://localhost:8080/",
          "height": 35
        },
        "outputId": "587aa227-78a8-487a-c84e-378c2e6539db"
      },
      "source": [
        "\n",
        "pipeline = make_pipeline(\n",
        "    ce.OneHotEncoder(use_cat_names=True), \n",
        "    SimpleImputer(strategy='median'), \n",
        "    DecisionTreeClassifier(max_depth=3)\n",
        ")\n",
        "pipeline.fit(X_train,y_train)\n",
        "print('Validation Accuracy:', pipeline.score(X_val,y_val))"
      ],
      "execution_count": 195,
      "outputs": [
        {
          "output_type": "stream",
          "text": [
            "Validation Accuracy: 1.0\n"
          ],
          "name": "stdout"
        }
      ]
    },
    {
      "cell_type": "markdown",
      "metadata": {
        "id": "Dm5_kLlYoSkb",
        "colab_type": "text"
      },
      "source": [
        "### Too good to be true for Validation Accuracy =1.0."
      ]
    },
    {
      "cell_type": "code",
      "metadata": {
        "id": "V1jk0UQ4r3UW",
        "colab_type": "code",
        "colab": {}
      },
      "source": [
        "import graphviz"
      ],
      "execution_count": 0,
      "outputs": []
    },
    {
      "cell_type": "code",
      "metadata": {
        "id": "VXYSuQT_cJjR",
        "colab_type": "code",
        "colab": {
          "base_uri": "https://localhost:8080/",
          "height": 545
        },
        "outputId": "5ea41674-502f-4ea4-e03d-4890b3d9f5bb"
      },
      "source": [
        "# This score is too good to be true.\n",
        "# Visualize the RandomeForestClassification to see what the model \"learned\"\n",
        "target = 'Indicator'\n",
        "features =X_train.columns.drop([target])\n",
        "X_train =X_train[features]\n",
        "y_train = y_train[target]\n",
        "X_val = X_val[features]\n",
        "y_val = y_val[target]\n",
        "\n",
        "from sklearn.tree import export_graphviz\n",
        "\n",
        "tree = pipeline.named_steps['decisiontreeclassifier']\n",
        "\n",
        "dot_data = export_graphviz(\n",
        "    tree, \n",
        "    out_file = None,\n",
        "    feature_names=X_train.columns, \n",
        "    class_names=y_train.unique().astype(str), \n",
        "    filled=True, \n",
        "    impurity=True\n",
        ")\n",
        "\n",
        "graphviz.Source(dot_data)"
      ],
      "execution_count": 197,
      "outputs": [
        {
          "output_type": "error",
          "ename": "KeyError",
          "evalue": "ignored",
          "traceback": [
            "\u001b[0;31m---------------------------------------------------------------------------\u001b[0m",
            "\u001b[0;31mKeyError\u001b[0m                                  Traceback (most recent call last)",
            "\u001b[0;32m<ipython-input-197-1f4d669a11b5>\u001b[0m in \u001b[0;36m<module>\u001b[0;34m()\u001b[0m\n\u001b[1;32m      2\u001b[0m \u001b[0mfeatures\u001b[0m \u001b[0;34m=\u001b[0m\u001b[0mX_train\u001b[0m\u001b[0;34m.\u001b[0m\u001b[0mcolumns\u001b[0m\u001b[0;34m.\u001b[0m\u001b[0mdrop\u001b[0m\u001b[0;34m(\u001b[0m\u001b[0;34m[\u001b[0m\u001b[0mtarget\u001b[0m\u001b[0;34m]\u001b[0m\u001b[0;34m)\u001b[0m\u001b[0;34m\u001b[0m\u001b[0;34m\u001b[0m\u001b[0m\n\u001b[1;32m      3\u001b[0m \u001b[0mX_train\u001b[0m \u001b[0;34m=\u001b[0m\u001b[0mX_train\u001b[0m\u001b[0;34m[\u001b[0m\u001b[0mfeatures\u001b[0m\u001b[0;34m]\u001b[0m\u001b[0;34m\u001b[0m\u001b[0;34m\u001b[0m\u001b[0m\n\u001b[0;32m----> 4\u001b[0;31m \u001b[0my_train\u001b[0m \u001b[0;34m=\u001b[0m \u001b[0my_train\u001b[0m\u001b[0;34m[\u001b[0m\u001b[0mtarget\u001b[0m\u001b[0;34m]\u001b[0m\u001b[0;34m\u001b[0m\u001b[0;34m\u001b[0m\u001b[0m\n\u001b[0m\u001b[1;32m      5\u001b[0m \u001b[0mX_val\u001b[0m \u001b[0;34m=\u001b[0m \u001b[0mX_val\u001b[0m\u001b[0;34m[\u001b[0m\u001b[0mfeatures\u001b[0m\u001b[0;34m]\u001b[0m\u001b[0;34m\u001b[0m\u001b[0;34m\u001b[0m\u001b[0m\n\u001b[1;32m      6\u001b[0m \u001b[0my_val\u001b[0m \u001b[0;34m=\u001b[0m \u001b[0my_val\u001b[0m\u001b[0;34m[\u001b[0m\u001b[0mtarget\u001b[0m\u001b[0;34m]\u001b[0m\u001b[0;34m\u001b[0m\u001b[0;34m\u001b[0m\u001b[0m\n",
            "\u001b[0;32m/usr/local/lib/python3.6/dist-packages/pandas/core/series.py\u001b[0m in \u001b[0;36m__getitem__\u001b[0;34m(self, key)\u001b[0m\n\u001b[1;32m   1069\u001b[0m         \u001b[0mkey\u001b[0m \u001b[0;34m=\u001b[0m \u001b[0mcom\u001b[0m\u001b[0;34m.\u001b[0m\u001b[0mapply_if_callable\u001b[0m\u001b[0;34m(\u001b[0m\u001b[0mkey\u001b[0m\u001b[0;34m,\u001b[0m \u001b[0mself\u001b[0m\u001b[0;34m)\u001b[0m\u001b[0;34m\u001b[0m\u001b[0;34m\u001b[0m\u001b[0m\n\u001b[1;32m   1070\u001b[0m         \u001b[0;32mtry\u001b[0m\u001b[0;34m:\u001b[0m\u001b[0;34m\u001b[0m\u001b[0;34m\u001b[0m\u001b[0m\n\u001b[0;32m-> 1071\u001b[0;31m             \u001b[0mresult\u001b[0m \u001b[0;34m=\u001b[0m \u001b[0mself\u001b[0m\u001b[0;34m.\u001b[0m\u001b[0mindex\u001b[0m\u001b[0;34m.\u001b[0m\u001b[0mget_value\u001b[0m\u001b[0;34m(\u001b[0m\u001b[0mself\u001b[0m\u001b[0;34m,\u001b[0m \u001b[0mkey\u001b[0m\u001b[0;34m)\u001b[0m\u001b[0;34m\u001b[0m\u001b[0;34m\u001b[0m\u001b[0m\n\u001b[0m\u001b[1;32m   1072\u001b[0m \u001b[0;34m\u001b[0m\u001b[0m\n\u001b[1;32m   1073\u001b[0m             \u001b[0;32mif\u001b[0m \u001b[0;32mnot\u001b[0m \u001b[0mis_scalar\u001b[0m\u001b[0;34m(\u001b[0m\u001b[0mresult\u001b[0m\u001b[0;34m)\u001b[0m\u001b[0;34m:\u001b[0m\u001b[0;34m\u001b[0m\u001b[0;34m\u001b[0m\u001b[0m\n",
            "\u001b[0;32m/usr/local/lib/python3.6/dist-packages/pandas/core/indexes/base.py\u001b[0m in \u001b[0;36mget_value\u001b[0;34m(self, series, key)\u001b[0m\n\u001b[1;32m   4728\u001b[0m         \u001b[0mk\u001b[0m \u001b[0;34m=\u001b[0m \u001b[0mself\u001b[0m\u001b[0;34m.\u001b[0m\u001b[0m_convert_scalar_indexer\u001b[0m\u001b[0;34m(\u001b[0m\u001b[0mk\u001b[0m\u001b[0;34m,\u001b[0m \u001b[0mkind\u001b[0m\u001b[0;34m=\u001b[0m\u001b[0;34m\"getitem\"\u001b[0m\u001b[0;34m)\u001b[0m\u001b[0;34m\u001b[0m\u001b[0;34m\u001b[0m\u001b[0m\n\u001b[1;32m   4729\u001b[0m         \u001b[0;32mtry\u001b[0m\u001b[0;34m:\u001b[0m\u001b[0;34m\u001b[0m\u001b[0;34m\u001b[0m\u001b[0m\n\u001b[0;32m-> 4730\u001b[0;31m             \u001b[0;32mreturn\u001b[0m \u001b[0mself\u001b[0m\u001b[0;34m.\u001b[0m\u001b[0m_engine\u001b[0m\u001b[0;34m.\u001b[0m\u001b[0mget_value\u001b[0m\u001b[0;34m(\u001b[0m\u001b[0ms\u001b[0m\u001b[0;34m,\u001b[0m \u001b[0mk\u001b[0m\u001b[0;34m,\u001b[0m \u001b[0mtz\u001b[0m\u001b[0;34m=\u001b[0m\u001b[0mgetattr\u001b[0m\u001b[0;34m(\u001b[0m\u001b[0mseries\u001b[0m\u001b[0;34m.\u001b[0m\u001b[0mdtype\u001b[0m\u001b[0;34m,\u001b[0m \u001b[0;34m\"tz\"\u001b[0m\u001b[0;34m,\u001b[0m \u001b[0;32mNone\u001b[0m\u001b[0;34m)\u001b[0m\u001b[0;34m)\u001b[0m\u001b[0;34m\u001b[0m\u001b[0;34m\u001b[0m\u001b[0m\n\u001b[0m\u001b[1;32m   4731\u001b[0m         \u001b[0;32mexcept\u001b[0m \u001b[0mKeyError\u001b[0m \u001b[0;32mas\u001b[0m \u001b[0me1\u001b[0m\u001b[0;34m:\u001b[0m\u001b[0;34m\u001b[0m\u001b[0;34m\u001b[0m\u001b[0m\n\u001b[1;32m   4732\u001b[0m             \u001b[0;32mif\u001b[0m \u001b[0mlen\u001b[0m\u001b[0;34m(\u001b[0m\u001b[0mself\u001b[0m\u001b[0;34m)\u001b[0m \u001b[0;34m>\u001b[0m \u001b[0;36m0\u001b[0m \u001b[0;32mand\u001b[0m \u001b[0;34m(\u001b[0m\u001b[0mself\u001b[0m\u001b[0;34m.\u001b[0m\u001b[0mholds_integer\u001b[0m\u001b[0;34m(\u001b[0m\u001b[0;34m)\u001b[0m \u001b[0;32mor\u001b[0m \u001b[0mself\u001b[0m\u001b[0;34m.\u001b[0m\u001b[0mis_boolean\u001b[0m\u001b[0;34m(\u001b[0m\u001b[0;34m)\u001b[0m\u001b[0;34m)\u001b[0m\u001b[0;34m:\u001b[0m\u001b[0;34m\u001b[0m\u001b[0;34m\u001b[0m\u001b[0m\n",
            "\u001b[0;32mpandas/_libs/index.pyx\u001b[0m in \u001b[0;36mpandas._libs.index.IndexEngine.get_value\u001b[0;34m()\u001b[0m\n",
            "\u001b[0;32mpandas/_libs/index.pyx\u001b[0m in \u001b[0;36mpandas._libs.index.IndexEngine.get_value\u001b[0;34m()\u001b[0m\n",
            "\u001b[0;32mpandas/_libs/index.pyx\u001b[0m in \u001b[0;36mpandas._libs.index.IndexEngine.get_loc\u001b[0;34m()\u001b[0m\n",
            "\u001b[0;32mpandas/_libs/index_class_helper.pxi\u001b[0m in \u001b[0;36mpandas._libs.index.Int64Engine._check_type\u001b[0;34m()\u001b[0m\n",
            "\u001b[0;31mKeyError\u001b[0m: 'Indicator'"
          ]
        }
      ]
    },
    {
      "cell_type": "code",
      "metadata": {
        "id": "5uWaufgxP_WU",
        "colab_type": "code",
        "colab": {}
      },
      "source": [
        ""
      ],
      "execution_count": 0,
      "outputs": []
    },
    {
      "cell_type": "code",
      "metadata": {
        "id": "nzk0gX94P_Qu",
        "colab_type": "code",
        "colab": {}
      },
      "source": [
        ""
      ],
      "execution_count": 0,
      "outputs": []
    }
  ]
}