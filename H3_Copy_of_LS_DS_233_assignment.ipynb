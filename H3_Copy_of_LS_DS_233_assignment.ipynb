{
  "nbformat": 4,
  "nbformat_minor": 0,
  "metadata": {
    "kernelspec": {
      "display_name": "Python 3",
      "language": "python",
      "name": "python3"
    },
    "language_info": {
      "codemirror_mode": {
        "name": "ipython",
        "version": 3
      },
      "file_extension": ".py",
      "mimetype": "text/x-python",
      "name": "python",
      "nbconvert_exporter": "python",
      "pygments_lexer": "ipython3",
      "version": "3.7.6"
    },
    "colab": {
      "name": "  H3 Copy of LS_DS_233_assignment.ipynb",
      "provenance": [],
      "machine_shape": "hm",
      "include_colab_link": true
    }
  },
  "cells": [
    {
      "cell_type": "markdown",
      "metadata": {
        "id": "view-in-github",
        "colab_type": "text"
      },
      "source": [
        "<a href=\"https://colab.research.google.com/github/pingao2019/DS-Unit-2-Applied-Modeling/blob/master/H3_Copy_of_LS_DS_233_assignment.ipynb\" target=\"_parent\"><img src=\"https://colab.research.google.com/assets/colab-badge.svg\" alt=\"Open In Colab\"/></a>"
      ]
    },
    {
      "cell_type": "markdown",
      "metadata": {
        "colab_type": "text",
        "id": "nCc3XZEyG3XV"
      },
      "source": [
        "Lambda School Data Science\n",
        "\n",
        "*Unit 2, Sprint 3, Module 3*\n",
        "\n",
        "---\n",
        "\n",
        "#Permutation & Boosting\n",
        "\n",
        "You will use your portfolio project dataset for all assignments this sprint.\n",
        "Assignment\n",
        "\n",
        "Complete these tasks for your project, and document your work.\n",
        "\n",
        "    If you haven't completed assignment #1, please do so first.\n",
        "    Continue to clean and explore your data. Make exploratory visualizations.\n",
        "    Fit a model. Does it beat your baseline?\n",
        "    Try xgboost.\n",
        "    Get your model's permutation importances.\n",
        "\n",
        "You should try to complete an initial model today, because the rest of the week, we're making model interpretation visualizations.\n",
        "\n",
        "But, if you aren't ready to try xgboost and permutation importances with your dataset today, that's okay. You can practice with another dataset instead. You may choose any dataset you've worked with previously.\n",
        "\n",
        "The data subdirectory includes the Titanic dataset for classification and the NYC apartments dataset for regression. You may want to choose one of these datasets, because example solutions will be available for each.\n",
        "Reading\n",
        "\n",
        "Top recommendations in bold italic:\n",
        "Permutation Importances\n",
        "\n",
        "    Kaggle / Dan Becker: Machine Learning Explainability\n",
        "    Christoph Molnar: Interpretable Machine Learning\n",
        "\n",
        "(Default) Feature Importances\n",
        "\n",
        "    Ando Saabas: Selecting good features, Part 3, Random Forests\n",
        "    Terence Parr, et al: Beware Default Random Forest Importances\n",
        "\n",
        "Gradient Boosting\n",
        "\n",
        "    A Gentle Introduction to the Gradient Boosting Algorithm for Machine Learning\n",
        "    A Kaggle Master Explains Gradient Boosting\n",
        "    An Introduction to Statistical Learning Chapter 8\n",
        "    Gradient Boosting Explained\n",
        "    Boosting (2.5 minute video)\n",
        "\n"
      ]
    },
    {
      "cell_type": "markdown",
      "metadata": {
        "id": "-f604BpWQfH-",
        "colab_type": "text"
      },
      "source": [
        "My dataset is from https://www.bls.gov/web/cewqtr.supp.toc.htm"
      ]
    },
    {
      "cell_type": "markdown",
      "metadata": {
        "id": "JCjwHWvnfLKE",
        "colab_type": "text"
      },
      "source": [
        "Choose your target.----------wage.\n",
        "\n",
        "Which column in your tabular dataset will you predict?----Average Weekly Wage\n",
        "\n",
        "Is your problem regression or classification?-------------regression\n",
        "\n"
      ]
    },
    {
      "cell_type": "code",
      "metadata": {
        "id": "jKKCmJ4kUrzM",
        "colab_type": "code",
        "outputId": "bd7159d9-4b64-439f-d791-b7fd39035f15",
        "colab": {
          "base_uri": "https://localhost:8080/",
          "height": 437
        }
      },
      "source": [
        "!pip install category_encoders==2.*\n",
        "\n",
        "!pip install eli5"
      ],
      "execution_count": 2,
      "outputs": [
        {
          "output_type": "stream",
          "text": [
            "Requirement already satisfied: category_encoders==2.* in /usr/local/lib/python3.6/dist-packages (2.1.0)\n",
            "Requirement already satisfied: numpy>=1.11.3 in /usr/local/lib/python3.6/dist-packages (from category_encoders==2.*) (1.17.5)\n",
            "Requirement already satisfied: scipy>=0.19.0 in /usr/local/lib/python3.6/dist-packages (from category_encoders==2.*) (1.4.1)\n",
            "Requirement already satisfied: patsy>=0.4.1 in /usr/local/lib/python3.6/dist-packages (from category_encoders==2.*) (0.5.1)\n",
            "Requirement already satisfied: statsmodels>=0.6.1 in /usr/local/lib/python3.6/dist-packages (from category_encoders==2.*) (0.10.2)\n",
            "Requirement already satisfied: pandas>=0.21.1 in /usr/local/lib/python3.6/dist-packages (from category_encoders==2.*) (0.25.3)\n",
            "Requirement already satisfied: scikit-learn>=0.20.0 in /usr/local/lib/python3.6/dist-packages (from category_encoders==2.*) (0.22.1)\n",
            "Requirement already satisfied: six in /usr/local/lib/python3.6/dist-packages (from patsy>=0.4.1->category_encoders==2.*) (1.12.0)\n",
            "Requirement already satisfied: python-dateutil>=2.6.1 in /usr/local/lib/python3.6/dist-packages (from pandas>=0.21.1->category_encoders==2.*) (2.6.1)\n",
            "Requirement already satisfied: pytz>=2017.2 in /usr/local/lib/python3.6/dist-packages (from pandas>=0.21.1->category_encoders==2.*) (2018.9)\n",
            "Requirement already satisfied: joblib>=0.11 in /usr/local/lib/python3.6/dist-packages (from scikit-learn>=0.20.0->category_encoders==2.*) (0.14.1)\n",
            "Requirement already satisfied: eli5 in /usr/local/lib/python3.6/dist-packages (0.10.1)\n",
            "Requirement already satisfied: scikit-learn>=0.18 in /usr/local/lib/python3.6/dist-packages (from eli5) (0.22.1)\n",
            "Requirement already satisfied: scipy in /usr/local/lib/python3.6/dist-packages (from eli5) (1.4.1)\n",
            "Requirement already satisfied: six in /usr/local/lib/python3.6/dist-packages (from eli5) (1.12.0)\n",
            "Requirement already satisfied: tabulate>=0.7.7 in /usr/local/lib/python3.6/dist-packages (from eli5) (0.8.6)\n",
            "Requirement already satisfied: attrs>16.0.0 in /usr/local/lib/python3.6/dist-packages (from eli5) (19.3.0)\n",
            "Requirement already satisfied: numpy>=1.9.0 in /usr/local/lib/python3.6/dist-packages (from eli5) (1.17.5)\n",
            "Requirement already satisfied: graphviz in /usr/local/lib/python3.6/dist-packages (from eli5) (0.10.1)\n",
            "Requirement already satisfied: jinja2 in /usr/local/lib/python3.6/dist-packages (from eli5) (2.11.1)\n",
            "Requirement already satisfied: joblib>=0.11 in /usr/local/lib/python3.6/dist-packages (from scikit-learn>=0.18->eli5) (0.14.1)\n",
            "Requirement already satisfied: MarkupSafe>=0.23 in /usr/local/lib/python3.6/dist-packages (from jinja2->eli5) (1.1.1)\n"
          ],
          "name": "stdout"
        }
      ]
    },
    {
      "cell_type": "code",
      "metadata": {
        "id": "6mAmegnNrxHm",
        "colab_type": "code",
        "colab": {
          "base_uri": "https://localhost:8080/",
          "height": 135
        },
        "outputId": "4349c0cd-9a3a-4f74-ede5-628bcabc2ca1"
      },
      "source": [
        "%%capture\n",
        "import sys\n",
        "\n",
        "# If you're on Colab:\n",
        "#if 'google.colab' in sys.modules:\n",
        " #   DATA_PATH = 'https:// '\n",
        "\n",
        "\n",
        "# If you're working locally:\n",
        "DATA_PATH = 'C:\\Users\\abc\\Desktop\\dataset search/2019_2ndQ_wage_industry.xlsx/'"
      ],
      "execution_count": 4,
      "outputs": [
        {
          "output_type": "error",
          "ename": "SyntaxError",
          "evalue": "ignored",
          "traceback": [
            "\u001b[0;36m  File \u001b[0;32m\"<ipython-input-4-5a2749393581>\"\u001b[0;36m, line \u001b[0;32m9\u001b[0m\n\u001b[0;31m    DATA_PATH = 'C:\\Users\\abc\\Desktop\\dataset search/2019_2ndQ_wage_industry.xlsx/'\u001b[0m\n\u001b[0m               ^\u001b[0m\n\u001b[0;31mSyntaxError\u001b[0m\u001b[0;31m:\u001b[0m (unicode error) 'unicodeescape' codec can't decode bytes in position 2-3: truncated \\UXXXXXXXX escape\n"
          ]
        }
      ]
    },
    {
      "cell_type": "code",
      "metadata": {
        "id": "_czxb4cTPGCF",
        "colab_type": "code",
        "outputId": "b53fd7af-fd62-4aa4-b278-51ca99255e32",
        "colab": {
          "base_uri": "https://localhost:8080/",
          "height": 505
        }
      },
      "source": [
        "import pandas as pd\n",
        "df=pd.read_excel('2019_2ndQ_wage_industry.xlsx')\n",
        "print(df.shape)\n",
        "df.head()"
      ],
      "execution_count": 5,
      "outputs": [
        {
          "output_type": "stream",
          "text": [
            "(62742, 21)\n"
          ],
          "name": "stdout"
        },
        {
          "output_type": "execute_result",
          "data": {
            "text/html": [
              "<div>\n",
              "<style scoped>\n",
              "    .dataframe tbody tr th:only-of-type {\n",
              "        vertical-align: middle;\n",
              "    }\n",
              "\n",
              "    .dataframe tbody tr th {\n",
              "        vertical-align: top;\n",
              "    }\n",
              "\n",
              "    .dataframe thead th {\n",
              "        text-align: right;\n",
              "    }\n",
              "</style>\n",
              "<table border=\"1\" class=\"dataframe\">\n",
              "  <thead>\n",
              "    <tr style=\"text-align: right;\">\n",
              "      <th></th>\n",
              "      <th>Area\\nCode</th>\n",
              "      <th>St</th>\n",
              "      <th>Cnty</th>\n",
              "      <th>Own</th>\n",
              "      <th>NAICS</th>\n",
              "      <th>Year</th>\n",
              "      <th>Qtr</th>\n",
              "      <th>Area Type</th>\n",
              "      <th>St Name</th>\n",
              "      <th>Area</th>\n",
              "      <th>Ownership</th>\n",
              "      <th>Industry</th>\n",
              "      <th>Status Code</th>\n",
              "      <th>Establishment Count</th>\n",
              "      <th>April Employment</th>\n",
              "      <th>May Employment</th>\n",
              "      <th>June Employment</th>\n",
              "      <th>Total Quarterly Wages</th>\n",
              "      <th>Average Weekly Wage</th>\n",
              "      <th>Employment Location Quotient Relative to U.S.</th>\n",
              "      <th>Total Wage Location Quotient Relative to U.S.</th>\n",
              "    </tr>\n",
              "  </thead>\n",
              "  <tbody>\n",
              "    <tr>\n",
              "      <th>0</th>\n",
              "      <td>US000</td>\n",
              "      <td>US</td>\n",
              "      <td>0.0</td>\n",
              "      <td>0</td>\n",
              "      <td>10</td>\n",
              "      <td>2019</td>\n",
              "      <td>2</td>\n",
              "      <td>Nation</td>\n",
              "      <td>NaN</td>\n",
              "      <td>U.S. TOTAL</td>\n",
              "      <td>Total Covered</td>\n",
              "      <td>10 Total, all industries</td>\n",
              "      <td>NaN</td>\n",
              "      <td>10252043</td>\n",
              "      <td>147522541</td>\n",
              "      <td>148607380</td>\n",
              "      <td>149089158</td>\n",
              "      <td>2111761785894</td>\n",
              "      <td>1095</td>\n",
              "      <td>1.0</td>\n",
              "      <td>1.0</td>\n",
              "    </tr>\n",
              "    <tr>\n",
              "      <th>1</th>\n",
              "      <td>US000</td>\n",
              "      <td>US</td>\n",
              "      <td>0.0</td>\n",
              "      <td>1</td>\n",
              "      <td>10</td>\n",
              "      <td>2019</td>\n",
              "      <td>2</td>\n",
              "      <td>Nation</td>\n",
              "      <td>NaN</td>\n",
              "      <td>U.S. TOTAL</td>\n",
              "      <td>Federal Government</td>\n",
              "      <td>10 Total, all industries</td>\n",
              "      <td>NaN</td>\n",
              "      <td>59824</td>\n",
              "      <td>2800541</td>\n",
              "      <td>2814885</td>\n",
              "      <td>2827888</td>\n",
              "      <td>59738450845</td>\n",
              "      <td>1633</td>\n",
              "      <td>1.0</td>\n",
              "      <td>1.0</td>\n",
              "    </tr>\n",
              "    <tr>\n",
              "      <th>2</th>\n",
              "      <td>US000</td>\n",
              "      <td>US</td>\n",
              "      <td>0.0</td>\n",
              "      <td>2</td>\n",
              "      <td>10</td>\n",
              "      <td>2019</td>\n",
              "      <td>2</td>\n",
              "      <td>Nation</td>\n",
              "      <td>NaN</td>\n",
              "      <td>U.S. TOTAL</td>\n",
              "      <td>State Government</td>\n",
              "      <td>10 Total, all industries</td>\n",
              "      <td>NaN</td>\n",
              "      <td>69905</td>\n",
              "      <td>4680392</td>\n",
              "      <td>4678471</td>\n",
              "      <td>4605421</td>\n",
              "      <td>72130616273</td>\n",
              "      <td>1192</td>\n",
              "      <td>1.0</td>\n",
              "      <td>1.0</td>\n",
              "    </tr>\n",
              "    <tr>\n",
              "      <th>3</th>\n",
              "      <td>US000</td>\n",
              "      <td>US</td>\n",
              "      <td>0.0</td>\n",
              "      <td>3</td>\n",
              "      <td>10</td>\n",
              "      <td>2019</td>\n",
              "      <td>2</td>\n",
              "      <td>Nation</td>\n",
              "      <td>NaN</td>\n",
              "      <td>U.S. TOTAL</td>\n",
              "      <td>Local Government</td>\n",
              "      <td>10 Total, all industries</td>\n",
              "      <td>NaN</td>\n",
              "      <td>171092</td>\n",
              "      <td>14591536</td>\n",
              "      <td>14698871</td>\n",
              "      <td>14377408</td>\n",
              "      <td>197299604678</td>\n",
              "      <td>1043</td>\n",
              "      <td>1.0</td>\n",
              "      <td>1.0</td>\n",
              "    </tr>\n",
              "    <tr>\n",
              "      <th>4</th>\n",
              "      <td>US000</td>\n",
              "      <td>US</td>\n",
              "      <td>0.0</td>\n",
              "      <td>5</td>\n",
              "      <td>10</td>\n",
              "      <td>2019</td>\n",
              "      <td>2</td>\n",
              "      <td>Nation</td>\n",
              "      <td>NaN</td>\n",
              "      <td>U.S. TOTAL</td>\n",
              "      <td>Private</td>\n",
              "      <td>10 Total, all industries</td>\n",
              "      <td>NaN</td>\n",
              "      <td>9951222</td>\n",
              "      <td>125450072</td>\n",
              "      <td>126415153</td>\n",
              "      <td>127278441</td>\n",
              "      <td>1782593114098</td>\n",
              "      <td>1085</td>\n",
              "      <td>1.0</td>\n",
              "      <td>1.0</td>\n",
              "    </tr>\n",
              "  </tbody>\n",
              "</table>\n",
              "</div>"
            ],
            "text/plain": [
              "  Area\\nCode  ... Total Wage Location Quotient Relative to U.S.\n",
              "0      US000  ...                                           1.0\n",
              "1      US000  ...                                           1.0\n",
              "2      US000  ...                                           1.0\n",
              "3      US000  ...                                           1.0\n",
              "4      US000  ...                                           1.0\n",
              "\n",
              "[5 rows x 21 columns]"
            ]
          },
          "metadata": {
            "tags": []
          },
          "execution_count": 5
        }
      ]
    },
    {
      "cell_type": "markdown",
      "metadata": {
        "id": "es0kEedNSieF",
        "colab_type": "text"
      },
      "source": [
        "There are 13 weeks in this quarter. According to BLS describe about this data set,\"average weekly wage values are calculated by dividing quarterly total wages by the average of the three monthly.\"Average weekly wages are affected by the ratio of full-time to part-time workers as well as the number of \n",
        "individuals in high-paying and low-paying occupations and the incidence of pay periods within a quarter. For instance, the average weekly wage of the workforce could increase significantly when there is a large decline in \n",
        "the number of employees that had been receiving below-average wages. Wages may include payments to workers not present in the employment counts because they did not work during the pay period including the 12th of the \n",
        "month. When comparing average weekly wage levels between industries, states, or quarters, these factors should \n",
        "be taken into consideration.\n"
      ]
    },
    {
      "cell_type": "code",
      "metadata": {
        "id": "WGV9JcRfuUtT",
        "colab_type": "code",
        "outputId": "eabb417f-2479-46db-fb11-8f57eb62bad3",
        "colab": {
          "base_uri": "https://localhost:8080/",
          "height": 417
        }
      },
      "source": [
        "df.isnull().sum()"
      ],
      "execution_count": 7,
      "outputs": [
        {
          "output_type": "execute_result",
          "data": {
            "text/plain": [
              "Area\\nCode                                           0\n",
              "St                                                6709\n",
              "Cnty                                              6709\n",
              "Own                                                  0\n",
              "NAICS                                                0\n",
              "Year                                                 0\n",
              "Qtr                                                  0\n",
              "Area Type                                            0\n",
              "St Name                                           6727\n",
              "Area                                                 0\n",
              "Ownership                                            0\n",
              "Industry                                             0\n",
              "Status Code                                      59123\n",
              "Establishment Count                                  0\n",
              "April Employment                                     0\n",
              "May Employment                                       0\n",
              "June Employment                                      0\n",
              "Total Quarterly Wages                                0\n",
              "Average Weekly Wage                                  0\n",
              "Employment Location Quotient Relative to U.S.        0\n",
              "Total Wage Location Quotient Relative to U.S.        0\n",
              "dtype: int64"
            ]
          },
          "metadata": {
            "tags": []
          },
          "execution_count": 7
        }
      ]
    },
    {
      "cell_type": "code",
      "metadata": {
        "id": "sdAtvuIZQuYh",
        "colab_type": "code",
        "outputId": "53193238-e96d-47ef-854c-30b0d7ea2e9e",
        "colab": {
          "base_uri": "https://localhost:8080/",
          "height": 399
        }
      },
      "source": [
        "df.columns.to_list()"
      ],
      "execution_count": 8,
      "outputs": [
        {
          "output_type": "execute_result",
          "data": {
            "text/plain": [
              "['Area\\nCode',\n",
              " 'St',\n",
              " 'Cnty',\n",
              " 'Own',\n",
              " 'NAICS',\n",
              " 'Year',\n",
              " 'Qtr',\n",
              " 'Area Type',\n",
              " 'St Name',\n",
              " 'Area',\n",
              " 'Ownership',\n",
              " 'Industry',\n",
              " 'Status Code',\n",
              " 'Establishment Count',\n",
              " 'April Employment',\n",
              " 'May Employment',\n",
              " 'June Employment',\n",
              " 'Total Quarterly Wages',\n",
              " 'Average Weekly Wage',\n",
              " 'Employment Location Quotient Relative to U.S.',\n",
              " 'Total Wage Location Quotient Relative to U.S.']"
            ]
          },
          "metadata": {
            "tags": []
          },
          "execution_count": 8
        }
      ]
    },
    {
      "cell_type": "code",
      "metadata": {
        "id": "8W7HXsQzQuPS",
        "colab_type": "code",
        "colab": {}
      },
      "source": [
        "df= df.drop(columns=['Cnty',  'St Name', 'Status Code'])"
      ],
      "execution_count": 0,
      "outputs": []
    },
    {
      "cell_type": "code",
      "metadata": {
        "id": "mpHxiH30RlLb",
        "colab_type": "code",
        "colab": {}
      },
      "source": [
        "df=df.drop(columns=['Year','Qtr','Total Quarterly Wages'])"
      ],
      "execution_count": 0,
      "outputs": []
    },
    {
      "cell_type": "code",
      "metadata": {
        "id": "Ls2m1onUllWL",
        "colab_type": "code",
        "outputId": "275d58c9-6226-4cff-baf3-1ba7f94d0279",
        "colab": {
          "base_uri": "https://localhost:8080/",
          "height": 370
        }
      },
      "source": [
        "df.describe()"
      ],
      "execution_count": 11,
      "outputs": [
        {
          "output_type": "execute_result",
          "data": {
            "text/html": [
              "<div>\n",
              "<style scoped>\n",
              "    .dataframe tbody tr th:only-of-type {\n",
              "        vertical-align: middle;\n",
              "    }\n",
              "\n",
              "    .dataframe tbody tr th {\n",
              "        vertical-align: top;\n",
              "    }\n",
              "\n",
              "    .dataframe thead th {\n",
              "        text-align: right;\n",
              "    }\n",
              "</style>\n",
              "<table border=\"1\" class=\"dataframe\">\n",
              "  <thead>\n",
              "    <tr style=\"text-align: right;\">\n",
              "      <th></th>\n",
              "      <th>Own</th>\n",
              "      <th>NAICS</th>\n",
              "      <th>Establishment Count</th>\n",
              "      <th>April Employment</th>\n",
              "      <th>May Employment</th>\n",
              "      <th>June Employment</th>\n",
              "      <th>Average Weekly Wage</th>\n",
              "      <th>Employment Location Quotient Relative to U.S.</th>\n",
              "      <th>Total Wage Location Quotient Relative to U.S.</th>\n",
              "    </tr>\n",
              "  </thead>\n",
              "  <tbody>\n",
              "    <tr>\n",
              "      <th>count</th>\n",
              "      <td>62742.000000</td>\n",
              "      <td>62742.000000</td>\n",
              "      <td>6.274200e+04</td>\n",
              "      <td>6.274200e+04</td>\n",
              "      <td>6.274200e+04</td>\n",
              "      <td>6.274200e+04</td>\n",
              "      <td>62742.000000</td>\n",
              "      <td>62742.000000</td>\n",
              "      <td>62742.000000</td>\n",
              "    </tr>\n",
              "    <tr>\n",
              "      <th>mean</th>\n",
              "      <td>4.195977</td>\n",
              "      <td>624.283399</td>\n",
              "      <td>2.453553e+03</td>\n",
              "      <td>3.350102e+04</td>\n",
              "      <td>3.374713e+04</td>\n",
              "      <td>3.390944e+04</td>\n",
              "      <td>798.408466</td>\n",
              "      <td>1.072296</td>\n",
              "      <td>1.110454</td>\n",
              "    </tr>\n",
              "    <tr>\n",
              "      <th>std</th>\n",
              "      <td>1.568151</td>\n",
              "      <td>483.586548</td>\n",
              "      <td>7.083353e+04</td>\n",
              "      <td>9.306942e+05</td>\n",
              "      <td>9.374311e+05</td>\n",
              "      <td>9.419742e+05</td>\n",
              "      <td>383.358658</td>\n",
              "      <td>3.158758</td>\n",
              "      <td>3.167968</td>\n",
              "    </tr>\n",
              "    <tr>\n",
              "      <th>min</th>\n",
              "      <td>0.000000</td>\n",
              "      <td>10.000000</td>\n",
              "      <td>1.000000e+00</td>\n",
              "      <td>0.000000e+00</td>\n",
              "      <td>0.000000e+00</td>\n",
              "      <td>0.000000e+00</td>\n",
              "      <td>0.000000</td>\n",
              "      <td>0.000000</td>\n",
              "      <td>0.000000</td>\n",
              "    </tr>\n",
              "    <tr>\n",
              "      <th>25%</th>\n",
              "      <td>5.000000</td>\n",
              "      <td>10.000000</td>\n",
              "      <td>1.900000e+01</td>\n",
              "      <td>1.390000e+02</td>\n",
              "      <td>1.430000e+02</td>\n",
              "      <td>1.450000e+02</td>\n",
              "      <td>621.000000</td>\n",
              "      <td>0.500000</td>\n",
              "      <td>0.412500</td>\n",
              "    </tr>\n",
              "    <tr>\n",
              "      <th>50%</th>\n",
              "      <td>5.000000</td>\n",
              "      <td>1012.000000</td>\n",
              "      <td>7.200000e+01</td>\n",
              "      <td>8.940000e+02</td>\n",
              "      <td>9.070000e+02</td>\n",
              "      <td>9.170000e+02</td>\n",
              "      <td>785.000000</td>\n",
              "      <td>0.860000</td>\n",
              "      <td>0.830000</td>\n",
              "    </tr>\n",
              "    <tr>\n",
              "      <th>75%</th>\n",
              "      <td>5.000000</td>\n",
              "      <td>1024.000000</td>\n",
              "      <td>3.730000e+02</td>\n",
              "      <td>5.259000e+03</td>\n",
              "      <td>5.312000e+03</td>\n",
              "      <td>5.342000e+03</td>\n",
              "      <td>981.000000</td>\n",
              "      <td>1.100000</td>\n",
              "      <td>1.140000</td>\n",
              "    </tr>\n",
              "    <tr>\n",
              "      <th>max</th>\n",
              "      <td>5.000000</td>\n",
              "      <td>1029.000000</td>\n",
              "      <td>1.025204e+07</td>\n",
              "      <td>1.475225e+08</td>\n",
              "      <td>1.486074e+08</td>\n",
              "      <td>1.490892e+08</td>\n",
              "      <td>6538.000000</td>\n",
              "      <td>655.850000</td>\n",
              "      <td>620.910000</td>\n",
              "    </tr>\n",
              "  </tbody>\n",
              "</table>\n",
              "</div>"
            ],
            "text/plain": [
              "                Own  ...  Total Wage Location Quotient Relative to U.S.\n",
              "count  62742.000000  ...                                   62742.000000\n",
              "mean       4.195977  ...                                       1.110454\n",
              "std        1.568151  ...                                       3.167968\n",
              "min        0.000000  ...                                       0.000000\n",
              "25%        5.000000  ...                                       0.412500\n",
              "50%        5.000000  ...                                       0.830000\n",
              "75%        5.000000  ...                                       1.140000\n",
              "max        5.000000  ...                                     620.910000\n",
              "\n",
              "[8 rows x 9 columns]"
            ]
          },
          "metadata": {
            "tags": []
          },
          "execution_count": 11
        }
      ]
    },
    {
      "cell_type": "code",
      "metadata": {
        "id": "eMO3m5OaxRNj",
        "colab_type": "code",
        "colab": {
          "base_uri": "https://localhost:8080/",
          "height": 290
        },
        "outputId": "a87abba2-ce7f-4ea8-bed2-71bcec2dd698"
      },
      "source": [
        "df.columns.to_list()"
      ],
      "execution_count": 12,
      "outputs": [
        {
          "output_type": "execute_result",
          "data": {
            "text/plain": [
              "['Area\\nCode',\n",
              " 'St',\n",
              " 'Own',\n",
              " 'NAICS',\n",
              " 'Area Type',\n",
              " 'Area',\n",
              " 'Ownership',\n",
              " 'Industry',\n",
              " 'Establishment Count',\n",
              " 'April Employment',\n",
              " 'May Employment',\n",
              " 'June Employment',\n",
              " 'Average Weekly Wage',\n",
              " 'Employment Location Quotient Relative to U.S.',\n",
              " 'Total Wage Location Quotient Relative to U.S.']"
            ]
          },
          "metadata": {
            "tags": []
          },
          "execution_count": 12
        }
      ]
    },
    {
      "cell_type": "code",
      "metadata": {
        "id": "MLfwJFMvaOTs",
        "colab_type": "code",
        "outputId": "55abc3fd-a2fb-47a2-bb25-14ebcf4209b8",
        "colab": {
          "base_uri": "https://localhost:8080/",
          "height": 35
        }
      },
      "source": [
        "df.select_dtypes(exclude=\"number\").columns.tolist()"
      ],
      "execution_count": 13,
      "outputs": [
        {
          "output_type": "execute_result",
          "data": {
            "text/plain": [
              "['Area\\nCode', 'St', 'Area Type', 'Area', 'Ownership', 'Industry']"
            ]
          },
          "metadata": {
            "tags": []
          },
          "execution_count": 13
        }
      ]
    },
    {
      "cell_type": "code",
      "metadata": {
        "id": "8nVL-Y4zP_af",
        "colab_type": "code",
        "outputId": "df70c0a9-5ecb-49ba-ba4d-90273f0bb7f2",
        "colab": {
          "base_uri": "https://localhost:8080/",
          "height": 235
        }
      },
      "source": [
        "df['Area\\nCode'].value_counts()"
      ],
      "execution_count": 14,
      "outputs": [
        {
          "output_type": "execute_result",
          "data": {
            "text/plain": [
              "21081    18\n",
              "17101    18\n",
              "06073    18\n",
              "06019    18\n",
              "48091    18\n",
              "         ..\n",
              "31117    12\n",
              "38087    11\n",
              "19999    11\n",
              "31007    11\n",
              "11999    10\n",
              "Name: Area\\nCode, Length: 3624, dtype: int64"
            ]
          },
          "metadata": {
            "tags": []
          },
          "execution_count": 14
        }
      ]
    },
    {
      "cell_type": "code",
      "metadata": {
        "id": "-O2hxAi-ZIxB",
        "colab_type": "code",
        "colab": {}
      },
      "source": [
        "# drop na in the state(St)\n",
        "df=df.dropna(subset=['St'])"
      ],
      "execution_count": 0,
      "outputs": []
    },
    {
      "cell_type": "code",
      "metadata": {
        "id": "veiYy4vNZovy",
        "colab_type": "code",
        "outputId": "bf281a7b-389c-4611-ae31-10b5a2d0bba0",
        "colab": {
          "base_uri": "https://localhost:8080/",
          "height": 308
        }
      },
      "source": [
        "df.isnull().sum()"
      ],
      "execution_count": 16,
      "outputs": [
        {
          "output_type": "execute_result",
          "data": {
            "text/plain": [
              "Area\\nCode                                       0\n",
              "St                                               0\n",
              "Own                                              0\n",
              "NAICS                                            0\n",
              "Area Type                                        0\n",
              "Area                                             0\n",
              "Ownership                                        0\n",
              "Industry                                         0\n",
              "Establishment Count                              0\n",
              "April Employment                                 0\n",
              "May Employment                                   0\n",
              "June Employment                                  0\n",
              "Average Weekly Wage                              0\n",
              "Employment Location Quotient Relative to U.S.    0\n",
              "Total Wage Location Quotient Relative to U.S.    0\n",
              "dtype: int64"
            ]
          },
          "metadata": {
            "tags": []
          },
          "execution_count": 16
        }
      ]
    },
    {
      "cell_type": "code",
      "metadata": {
        "id": "GFtXXonkiLKI",
        "colab_type": "code",
        "outputId": "c3f795e2-89c8-42b0-da06-90ff7b60a0d1",
        "colab": {
          "base_uri": "https://localhost:8080/",
          "height": 108
        }
      },
      "source": [
        "df['St'].unique()"
      ],
      "execution_count": 17,
      "outputs": [
        {
          "output_type": "execute_result",
          "data": {
            "text/plain": [
              "array(['US', '01', '02', '04', '05', '06', '08', '09', '10', '11', '12',\n",
              "       '13', '15', '16', '17', '18', '19', '20', '21', '22', '23', '24',\n",
              "       '25', '26', '27', '28', '29', '30', '31', '32', '33', '34', '35',\n",
              "       '36', '37', '38', '39', '40', '41', '42', '44', '45', '46', '47',\n",
              "       '48', '49', '50', '51', '53', '54', '55', '56'], dtype=object)"
            ]
          },
          "metadata": {
            "tags": []
          },
          "execution_count": 17
        }
      ]
    },
    {
      "cell_type": "code",
      "metadata": {
        "id": "96CAH9h-iqYO",
        "colab_type": "code",
        "outputId": "0fc80db0-5a7e-46c6-8b47-6d7a6c883e04",
        "colab": {
          "base_uri": "https://localhost:8080/",
          "height": 126
        }
      },
      "source": [
        "df['Own'].value_counts()"
      ],
      "execution_count": 18,
      "outputs": [
        {
          "output_type": "execute_result",
          "data": {
            "text/plain": [
              "5    43161\n",
              "0     3243\n",
              "1     3240\n",
              "3     3227\n",
              "2     3162\n",
              "Name: Own, dtype: int64"
            ]
          },
          "metadata": {
            "tags": []
          },
          "execution_count": 18
        }
      ]
    },
    {
      "cell_type": "code",
      "metadata": {
        "id": "-PcweWKdjKeU",
        "colab_type": "code",
        "outputId": "490b370f-f7b6-45c3-f158-8daf75ae3d24",
        "colab": {
          "base_uri": "https://localhost:8080/",
          "height": 35
        }
      },
      "source": [
        "df['Area Type'].unique()"
      ],
      "execution_count": 19,
      "outputs": [
        {
          "output_type": "execute_result",
          "data": {
            "text/plain": [
              "array(['Nation', 'State', 'County'], dtype=object)"
            ]
          },
          "metadata": {
            "tags": []
          },
          "execution_count": 19
        }
      ]
    },
    {
      "cell_type": "code",
      "metadata": {
        "id": "19q8XaLxjj5L",
        "colab_type": "code",
        "outputId": "e3c7f362-81a7-44c7-af33-78277089842f",
        "colab": {
          "base_uri": "https://localhost:8080/",
          "height": 72
        }
      },
      "source": [
        "df['Area'].unique()\n"
      ],
      "execution_count": 20,
      "outputs": [
        {
          "output_type": "execute_result",
          "data": {
            "text/plain": [
              "array(['U.S. TOTAL', 'Alabama -- Statewide', 'Autauga County, Alabama',\n",
              "       ..., 'Washakie County, Wyoming', 'Weston County, Wyoming',\n",
              "       'Unknown Or Undefined, Wyoming'], dtype=object)"
            ]
          },
          "metadata": {
            "tags": []
          },
          "execution_count": 20
        }
      ]
    },
    {
      "cell_type": "code",
      "metadata": {
        "id": "A4SLaiZ-uWOw",
        "colab_type": "code",
        "outputId": "64d37fdd-418e-47d4-a64e-dbf90811e0fa",
        "colab": {
          "base_uri": "https://localhost:8080/",
          "height": 108
        }
      },
      "source": [
        "df['Area'].describe()"
      ],
      "execution_count": 21,
      "outputs": [
        {
          "output_type": "execute_result",
          "data": {
            "text/plain": [
              "count                    56033\n",
              "unique                    3242\n",
              "top       District of Columbia\n",
              "freq                        36\n",
              "Name: Area, dtype: object"
            ]
          },
          "metadata": {
            "tags": []
          },
          "execution_count": 21
        }
      ]
    },
    {
      "cell_type": "code",
      "metadata": {
        "id": "bdlye6cSay5P",
        "colab_type": "code",
        "outputId": "aa195a82-29b0-4376-a081-8df61aa48c24",
        "colab": {
          "base_uri": "https://localhost:8080/",
          "height": 53
        }
      },
      "source": [
        "df['Ownership'].unique()"
      ],
      "execution_count": 22,
      "outputs": [
        {
          "output_type": "execute_result",
          "data": {
            "text/plain": [
              "array(['Total Covered', 'Federal Government', 'State Government',\n",
              "       'Local Government', 'Private'], dtype=object)"
            ]
          },
          "metadata": {
            "tags": []
          },
          "execution_count": 22
        }
      ]
    },
    {
      "cell_type": "code",
      "metadata": {
        "id": "9vDLTuvSutuy",
        "colab_type": "code",
        "outputId": "7914bf97-5148-4cfe-f402-76bb2996505a",
        "colab": {
          "base_uri": "https://localhost:8080/",
          "height": 181
        }
      },
      "source": [
        "df['Industry'].unique()"
      ],
      "execution_count": 23,
      "outputs": [
        {
          "output_type": "execute_result",
          "data": {
            "text/plain": [
              "array(['10 Total, all industries', '101 Goods-producing',\n",
              "       '1011 Natural resources and mining', '1012 Construction',\n",
              "       '1013 Manufacturing', '102 Service-providing',\n",
              "       '1021 Trade, transportation, and utilities', '1022 Information',\n",
              "       '1023 Financial activities',\n",
              "       '1024 Professional and business services',\n",
              "       '1025 Education and health services',\n",
              "       '1026 Leisure and hospitality', '1027 Other services',\n",
              "       '1029 Unclassified'], dtype=object)"
            ]
          },
          "metadata": {
            "tags": []
          },
          "execution_count": 23
        }
      ]
    },
    {
      "cell_type": "code",
      "metadata": {
        "id": "FSnU7hpUi9Hp",
        "colab_type": "code",
        "outputId": "f2d2b637-54cf-43d2-8e3e-65803a7acedd",
        "colab": {
          "base_uri": "https://localhost:8080/",
          "height": 181
        }
      },
      "source": [
        "df['NAICS'].describe()"
      ],
      "execution_count": 24,
      "outputs": [
        {
          "output_type": "execute_result",
          "data": {
            "text/plain": [
              "count    56033.000000\n",
              "mean       623.649010\n",
              "std        483.698825\n",
              "min         10.000000\n",
              "25%         10.000000\n",
              "50%       1012.000000\n",
              "75%       1024.000000\n",
              "max       1029.000000\n",
              "Name: NAICS, dtype: float64"
            ]
          },
          "metadata": {
            "tags": []
          },
          "execution_count": 24
        }
      ]
    },
    {
      "cell_type": "code",
      "metadata": {
        "id": "Mp6pTI9puwhj",
        "colab_type": "code",
        "outputId": "8900c7f0-f9ed-4ed0-e325-6ce92590792f",
        "colab": {
          "base_uri": "https://localhost:8080/",
          "height": 181
        }
      },
      "source": [
        "df['Establishment Count'].describe()"
      ],
      "execution_count": 25,
      "outputs": [
        {
          "output_type": "execute_result",
          "data": {
            "text/plain": [
              "count    5.603300e+04\n",
              "mean     2.163361e+03\n",
              "std      7.448280e+04\n",
              "min      1.000000e+00\n",
              "25%      1.600000e+01\n",
              "50%      5.700000e+01\n",
              "75%      2.700000e+02\n",
              "max      1.025204e+07\n",
              "Name: Establishment Count, dtype: float64"
            ]
          },
          "metadata": {
            "tags": []
          },
          "execution_count": 25
        }
      ]
    },
    {
      "cell_type": "code",
      "metadata": {
        "id": "kxuIt81xly71",
        "colab_type": "code",
        "colab": {}
      },
      "source": [
        "import numpy as np\n"
      ],
      "execution_count": 0,
      "outputs": []
    },
    {
      "cell_type": "code",
      "metadata": {
        "id": "sgaQdcvXkNng",
        "colab_type": "code",
        "outputId": "c8c55c09-9a4d-4d35-b98f-3bb7568fdf44",
        "colab": {
          "base_uri": "https://localhost:8080/",
          "height": 181
        }
      },
      "source": [
        "df['Employment Location Quotient Relative to U.S.'].describe()"
      ],
      "execution_count": 28,
      "outputs": [
        {
          "output_type": "execute_result",
          "data": {
            "text/plain": [
              "count    56033.000000\n",
              "mean         1.084267\n",
              "std          3.323905\n",
              "min          0.000000\n",
              "25%          0.480000\n",
              "50%          0.850000\n",
              "75%          1.110000\n",
              "max        655.850000\n",
              "Name: Employment Location Quotient Relative to U.S., dtype: float64"
            ]
          },
          "metadata": {
            "tags": []
          },
          "execution_count": 28
        }
      ]
    },
    {
      "cell_type": "code",
      "metadata": {
        "id": "A5ULOmdjkgMB",
        "colab_type": "code",
        "outputId": "6a7d8f19-0a69-438f-d9dd-8520dd7496e1",
        "colab": {
          "base_uri": "https://localhost:8080/",
          "height": 181
        }
      },
      "source": [
        "df['Total Wage Location Quotient Relative to U.S.'].describe()"
      ],
      "execution_count": 29,
      "outputs": [
        {
          "output_type": "execute_result",
          "data": {
            "text/plain": [
              "count    56033.000000\n",
              "mean         1.125547\n",
              "std          3.331689\n",
              "min          0.000000\n",
              "25%          0.400000\n",
              "50%          0.820000\n",
              "75%          1.150000\n",
              "max        620.910000\n",
              "Name: Total Wage Location Quotient Relative to U.S., dtype: float64"
            ]
          },
          "metadata": {
            "tags": []
          },
          "execution_count": 29
        }
      ]
    },
    {
      "cell_type": "code",
      "metadata": {
        "id": "qG1mgh1-0KC1",
        "colab_type": "code",
        "outputId": "b0af1d14-f101-431a-f036-38473d06c69b",
        "colab": {
          "base_uri": "https://localhost:8080/",
          "height": 181
        }
      },
      "source": [
        "df['Average Weekly Wage'].describe()"
      ],
      "execution_count": 30,
      "outputs": [
        {
          "output_type": "execute_result",
          "data": {
            "text/plain": [
              "count    56033.000000\n",
              "mean       784.927204\n",
              "std        378.885403\n",
              "min          0.000000\n",
              "25%        611.000000\n",
              "50%        770.000000\n",
              "75%        964.000000\n",
              "max       6538.000000\n",
              "Name: Average Weekly Wage, dtype: float64"
            ]
          },
          "metadata": {
            "tags": []
          },
          "execution_count": 30
        }
      ]
    },
    {
      "cell_type": "markdown",
      "metadata": {
        "id": "aL4LUFy81BUM",
        "colab_type": "text"
      },
      "source": [
        " How is your target distributed?\n",
        "\n",
        "\n",
        "Regression: Is the target right-skewed? If so, you may want to log transform the target.\n",
        "\n"
      ]
    },
    {
      "cell_type": "code",
      "metadata": {
        "id": "yrj-25bys6v5",
        "colab_type": "code",
        "outputId": "f7964eb7-ee4f-4b68-d322-fe42a8e505df",
        "colab": {
          "base_uri": "https://localhost:8080/",
          "height": 35
        }
      },
      "source": [
        "#Mean baseline \n",
        "df['Average Weekly Wage'].mean()\n",
        "\n",
        "\n"
      ],
      "execution_count": 31,
      "outputs": [
        {
          "output_type": "execute_result",
          "data": {
            "text/plain": [
              "784.9272036121571"
            ]
          },
          "metadata": {
            "tags": []
          },
          "execution_count": 31
        }
      ]
    },
    {
      "cell_type": "code",
      "metadata": {
        "id": "iQfNvYt0okrN",
        "colab_type": "code",
        "colab": {
          "base_uri": "https://localhost:8080/",
          "height": 53
        },
        "outputId": "aece8f15-2a45-49e7-d248-fde7832a26e3"
      },
      "source": [
        "# My target to predict is Average Weekly Wage. From the baseline, I guessed the majority class for every prediction. And get baseline accuracy \n",
        "baseline= df['Average Weekly Wage'].mean()\n",
        "errors = baseline- df['Average Weekly Wage']\n",
        "mean_absolute_error = errors.abs().mean()\n",
        "print(f'If we just guessed every wage for ${baseline:,.3f},')\n",
        "print(f'we would be off by ${mean_absolute_error:,.3f} on average.')"
      ],
      "execution_count": 18,
      "outputs": [
        {
          "output_type": "stream",
          "text": [
            "If we just guessed every wage for $798.408,\n",
            "we would be off by $268.482 on average.\n"
          ],
          "name": "stdout"
        }
      ]
    },
    {
      "cell_type": "code",
      "metadata": {
        "id": "O1rB7qFmaKj4",
        "colab_type": "code",
        "outputId": "33992361-9f37-4212-c216-f8e784eaa1a8",
        "colab": {
          "base_uri": "https://localhost:8080/",
          "height": 35
        }
      },
      "source": [
        "df.shape"
      ],
      "execution_count": 8,
      "outputs": [
        {
          "output_type": "execute_result",
          "data": {
            "text/plain": [
              "(62742, 15)"
            ]
          },
          "metadata": {
            "tags": []
          },
          "execution_count": 8
        }
      ]
    },
    {
      "cell_type": "code",
      "metadata": {
        "id": "snNpYXVAuu_o",
        "colab_type": "code",
        "outputId": "5cf3159c-372e-48f2-dff6-aaa9b750cfb2",
        "colab": {
          "base_uri": "https://localhost:8080/",
          "height": 279
        }
      },
      "source": [
        "import seaborn as sns\n",
        "y= df['Average Weekly Wage']\n",
        "sns.distplot(y);"
      ],
      "execution_count": 15,
      "outputs": [
        {
          "output_type": "display_data",
          "data": {
            "image/png": "[encoded data removed]",
            "text/plain": [
              "<Figure size 432x288 with 1 Axes>"
            ]
          },
          "metadata": {
            "tags": []
          }
        }
      ]
    },
    {
      "cell_type": "markdown",
      "metadata": {
        "id": "Hp9JcU9zelk5",
        "colab_type": "text"
      },
      "source": [
        "### Lower bound and Upper Bound are numberic data. From following I will check whether they are outliers.  Do I need  exclude them? "
      ]
    },
    {
      "cell_type": "markdown",
      "metadata": {
        "id": "lFcEMXrG3_xf",
        "colab_type": "text"
      },
      "source": [
        "Yes, there are outliers. Some really high and some really low. I will remove the most extreme 1% wage."
      ]
    },
    {
      "cell_type": "code",
      "metadata": {
        "id": "WPvO8G9m4bNy",
        "colab_type": "code",
        "outputId": "3609ba5a-a67a-4a8c-b354-1b6d720edab9",
        "colab": {
          "base_uri": "https://localhost:8080/",
          "height": 35
        }
      },
      "source": [
        "import numpy as np\n",
        "df= df[(df['Average Weekly Wage'] >= np.percentile(df['Average Weekly Wage'],0.5))]\n",
        "df.shape     \n"
      ],
      "execution_count": 13,
      "outputs": [
        {
          "output_type": "execute_result",
          "data": {
            "text/plain": [
              "(62742, 15)"
            ]
          },
          "metadata": {
            "tags": []
          },
          "execution_count": 13
        }
      ]
    },
    {
      "cell_type": "code",
      "metadata": {
        "id": "cKZwzgOHEtcp",
        "colab_type": "code",
        "outputId": "56120424-61b9-4665-bcf3-27cb971abdba",
        "colab": {
          "base_uri": "https://localhost:8080/",
          "height": 279
        }
      },
      "source": [
        "y=df['Average Weekly Wage']\n",
        "sns.distplot(y);"
      ],
      "execution_count": 16,
      "outputs": [
        {
          "output_type": "display_data",
          "data": {
            "image/png": "[encoded data removed]",
            "text/plain": [
              "<Figure size 432x288 with 1 Axes>"
            ]
          },
          "metadata": {
            "tags": []
          }
        }
      ]
    },
    {
      "cell_type": "markdown",
      "metadata": {
        "id": "7vsdON-g6GD2",
        "colab_type": "text"
      },
      "source": [
        "The log1p and expm was being taken due to uneven distribution of the target variables. The shape is  right_skewed . So we need log -Transform the target. "
      ]
    },
    {
      "cell_type": "code",
      "metadata": {
        "id": "_8uo0BcJ6i9-",
        "colab_type": "code",
        "outputId": "1d5e91b8-ada2-44cd-b25d-0dc375705830",
        "colab": {
          "base_uri": "https://localhost:8080/",
          "height": 295
        }
      },
      "source": [
        "y_log = np.log1p(y)\n",
        "import matplotlib.pyplot as plt\n",
        "\n",
        "sns.distplot(y_log)\n",
        "plt.title('Log- transformed target, in log- dollars');"
      ],
      "execution_count": 17,
      "outputs": [
        {
          "output_type": "display_data",
          "data": {
            "image/png": "[encoded data removed]",
            "text/plain": [
              "<Figure size 432x288 with 1 Axes>"
            ]
          },
          "metadata": {
            "tags": []
          }
        }
      ]
    },
    {
      "cell_type": "code",
      "metadata": {
        "id": "tbHroLzk6i57",
        "colab_type": "code",
        "outputId": "467cd7c9-70d7-4558-b1f6-c7e9b4ff2a48",
        "colab": {
          "base_uri": "https://localhost:8080/",
          "height": 295
        }
      },
      "source": [
        "y_untransformed = np.expm1(y_log)\n",
        "sns.distplot(y_untransformed)\n",
        "plt.title('Back to the original units');"
      ],
      "execution_count": 18,
      "outputs": [
        {
          "output_type": "display_data",
          "data": {
            "image/png": "[encoded data removed]",
            "text/plain": [
              "<Figure size 432x288 with 1 Axes>"
            ]
          },
          "metadata": {
            "tags": []
          }
        }
      ]
    },
    {
      "cell_type": "code",
      "metadata": {
        "id": "chrbXiDeZFBj",
        "colab_type": "code",
        "colab": {}
      },
      "source": [
        "y= y_untransformed"
      ],
      "execution_count": 0,
      "outputs": []
    },
    {
      "cell_type": "code",
      "metadata": {
        "id": "jhOfKRN0uDR3",
        "colab_type": "code",
        "colab": {
          "base_uri": "https://localhost:8080/",
          "height": 35
        },
        "outputId": "0f8a295c-2246-4c02-f669-8b187a5be313"
      },
      "source": [
        "y.shape"
      ],
      "execution_count": 20,
      "outputs": [
        {
          "output_type": "execute_result",
          "data": {
            "text/plain": [
              "(62742,)"
            ]
          },
          "metadata": {
            "tags": []
          },
          "execution_count": 20
        }
      ]
    },
    {
      "cell_type": "code",
      "metadata": {
        "id": "RR2icAZBRzho",
        "colab_type": "code",
        "colab": {
          "base_uri": "https://localhost:8080/",
          "height": 35
        },
        "outputId": "2554e40d-cd77-4328-c923-81d7cf15395c"
      },
      "source": [
        "from sklearn.model_selection import train_test_split\n",
        "train, test = train_test_split(df, train_size=0.80, test_size=0.20, \n",
        "                               random_state=42)\n",
        "\n",
        "train.shape, test.shape "
      ],
      "execution_count": 23,
      "outputs": [
        {
          "output_type": "execute_result",
          "data": {
            "text/plain": [
              "((50193, 15), (12549, 15))"
            ]
          },
          "metadata": {
            "tags": []
          },
          "execution_count": 23
        }
      ]
    },
    {
      "cell_type": "code",
      "metadata": {
        "id": "ZViRq3DXT1vE",
        "colab_type": "code",
        "outputId": "ffff9da6-2108-4f5b-9168-3caac38f35c5",
        "colab": {
          "base_uri": "https://localhost:8080/",
          "height": 35
        }
      },
      "source": [
        "train, val = train_test_split(train,  test_size=0.2,random_state=42)\n",
        "train.shape,  val.shape"
      ],
      "execution_count": 24,
      "outputs": [
        {
          "output_type": "execute_result",
          "data": {
            "text/plain": [
              "((40154, 15), (10039, 15))"
            ]
          },
          "metadata": {
            "tags": []
          },
          "execution_count": 24
        }
      ]
    },
    {
      "cell_type": "code",
      "metadata": {
        "id": "SKF_zYTCSRfc",
        "colab_type": "code",
        "colab": {}
      },
      "source": [
        "target = 'Average Weekly Wage'\n",
        "features= df.columns. drop([target])"
      ],
      "execution_count": 0,
      "outputs": []
    },
    {
      "cell_type": "code",
      "metadata": {
        "id": "2dVVKeVhyzNe",
        "colab_type": "code",
        "colab": {}
      },
      "source": [
        "%matplotlib inline\n",
        "import category_encoders as ce\n",
        "import matplotlib.pyplot as plt\n",
        "import numpy as np\n",
        "import pandas as pd\n",
        "import seaborn as sns\n",
        "from sklearn.impute import SimpleImputer\n",
        "from sklearn.metrics import accuracy_score\n",
        "from sklearn.model_selection import train_test_split\n",
        "from sklearn.pipeline import make_pipeline\n",
        "from sklearn.ensemble import RandomForestRegressor\n"
      ],
      "execution_count": 0,
      "outputs": []
    },
    {
      "cell_type": "code",
      "metadata": {
        "id": "qVLK7U_TgpP5",
        "colab_type": "code",
        "colab": {
          "base_uri": "https://localhost:8080/",
          "height": 35
        },
        "outputId": "7bc11673-7644-42ea-d6ec-bbf21c11a040"
      },
      "source": [
        "# Method 1: using Linear Regression model\n",
        "from sklearn.linear_model import LinearRegression\n",
        "\n",
        "lr = make_pipeline(\n",
        "    ce.TargetEncoder(),  \n",
        "    LinearRegression()\n",
        ")\n",
        "\n",
        "lr.fit(X_train, y_train)\n",
        "print('Linear Regression R^2', lr.score(X_val, y_val))"
      ],
      "execution_count": 46,
      "outputs": [
        {
          "output_type": "stream",
          "text": [
            "Linear Regression R^2 0.4603666991356523\n"
          ],
          "name": "stdout"
        }
      ]
    },
    {
      "cell_type": "code",
      "metadata": {
        "id": "_86q8rSyhIOZ",
        "colab_type": "code",
        "colab": {
          "base_uri": "https://localhost:8080/",
          "height": 290
        },
        "outputId": "f491d00b-af24-44b0-fada-026a88fb090b"
      },
      "source": [
        "coefficients = lr.named_steps['linearregression'].coef_\n",
        "pd.Series(coefficients, features)"
      ],
      "execution_count": 47,
      "outputs": [
        {
          "output_type": "execute_result",
          "data": {
            "text/plain": [
              "Area\\nCode                                        -0.148902\n",
              "St                                                 0.037792\n",
              "Own                                               19.176296\n",
              "NAICS                                              0.027356\n",
              "Area Type                                          0.054863\n",
              "Area                                               1.118346\n",
              "Ownership                                          1.011532\n",
              "Industry                                           0.954363\n",
              "Establishment Count                               -0.000405\n",
              "April Employment                                   0.003317\n",
              "May Employment                                    -0.004585\n",
              "June Employment                                    0.001315\n",
              "Employment Location Quotient Relative to U.S.   -102.359355\n",
              "Total Wage Location Quotient Relative to U.S.    113.003887\n",
              "dtype: float64"
            ]
          },
          "metadata": {
            "tags": []
          },
          "execution_count": 47
        }
      ]
    },
    {
      "cell_type": "code",
      "metadata": {
        "id": "n-V-p9A1hWXl",
        "colab_type": "code",
        "colab": {
          "base_uri": "https://localhost:8080/",
          "height": 128
        },
        "outputId": "c5b312e6-cdd3-409e-9f98-3e2849d9f312"
      },
      "source": [
        "# Method 2:\n",
        "from sklearn.metrics import r2_score\n",
        "from xgboost import XGBRegressor\n",
        "\n",
        "gb = make_pipeline(\n",
        "    ce.OrdinalEncoder(), \n",
        "    XGBRegressor(n_estimators=200, objective='reg:squarederror', n_jobs=-1)\n",
        ")\n",
        "\n",
        "gb.fit(X_train, y_train)\n",
        "y_pred = gb.predict(X_val)\n",
        "print('Gradient Boosting R^2', r2_score(y_val, y_pred))"
      ],
      "execution_count": 48,
      "outputs": [
        {
          "output_type": "stream",
          "text": [
            "/usr/local/lib/python3.6/dist-packages/xgboost/core.py:587: FutureWarning: Series.base is deprecated and will be removed in a future version\n",
            "  if getattr(data, 'base', None) is not None and \\\n",
            "/usr/local/lib/python3.6/dist-packages/xgboost/core.py:588: FutureWarning: Series.base is deprecated and will be removed in a future version\n",
            "  data.base is not None and isinstance(data, np.ndarray) \\\n"
          ],
          "name": "stderr"
        },
        {
          "output_type": "stream",
          "text": [
            "Gradient Boosting R^2 0.7822288290668922\n"
          ],
          "name": "stdout"
        }
      ]
    },
    {
      "cell_type": "code",
      "metadata": {
        "id": "5DjG1RgorNlj",
        "colab_type": "code",
        "colab": {}
      },
      "source": [
        "#Method 3: fit RandomForestRegressor model\n",
        "X_train = train[features]\n",
        "y_train = train[target]\n",
        "X_val = val[features]\n",
        "y_val = val[target]\n",
        "X_test = test[features]\n",
        "y_test =test[target]"
      ],
      "execution_count": 0,
      "outputs": []
    },
    {
      "cell_type": "code",
      "metadata": {
        "id": "5kAARZAZuhOH",
        "colab_type": "code",
        "outputId": "c2efa9d5-a4ff-4ede-f7c7-d7eff3a99c37",
        "colab": {
          "base_uri": "https://localhost:8080/",
          "height": 35
        }
      },
      "source": [
        "pipeline = make_pipeline(\n",
        "    ce.OneHotEncoder(use_cat_names=True), \n",
        "    SimpleImputer(strategy='median'), \n",
        "    RandomForestRegressor(max_depth=2)\n",
        ")\n",
        "pipeline.fit(X_train,y_train)\n",
        "print('Validation Accuracy:', pipeline.score(X_val,y_val))"
      ],
      "execution_count": 29,
      "outputs": [
        {
          "output_type": "stream",
          "text": [
            "Validation Accuracy: 0.3955837419853811\n"
          ],
          "name": "stdout"
        }
      ]
    },
    {
      "cell_type": "code",
      "metadata": {
        "id": "V1jk0UQ4r3UW",
        "colab_type": "code",
        "colab": {}
      },
      "source": [
        "import graphviz"
      ],
      "execution_count": 0,
      "outputs": []
    },
    {
      "cell_type": "code",
      "metadata": {
        "id": "tgYW9q3vWvHE",
        "colab_type": "code",
        "colab": {}
      },
      "source": [
        "# This score is too good to be true.\n",
        "# Visualize the RandomeForestClassification to see what the model \"learned\"\n",
        "target = 'Average Weekly Wage'\n",
        "features= df.columns. drop([target])\n",
        "X_train =X_train[features]\n",
        "\n",
        "X_val = X_val[features]\n"
      ],
      "execution_count": 0,
      "outputs": []
    },
    {
      "cell_type": "code",
      "metadata": {
        "id": "N9geND4XvECq",
        "colab_type": "code",
        "colab": {
          "base_uri": "https://localhost:8080/",
          "height": 35
        },
        "outputId": "9317ab04-f4e8-474f-8ecb-f8f39bd6de69"
      },
      "source": [
        "encoder = pipeline.named_steps['onehotencoder']\n",
        "encoded = encoder.transform(X_train)\n",
        "print('X_train shape after encoding', encoded.shape)"
      ],
      "execution_count": 31,
      "outputs": [
        {
          "output_type": "stream",
          "text": [
            "X_train shape after encoding (40154, 7331)\n"
          ],
          "name": "stdout"
        }
      ]
    },
    {
      "cell_type": "code",
      "metadata": {
        "id": "BrxJOmLXhPcG",
        "colab_type": "code",
        "colab": {
          "base_uri": "https://localhost:8080/",
          "height": 607
        },
        "outputId": "a6d1c1c1-a940-428c-c5e6-4e83768dacd4"
      },
      "source": [
        "# To get feature importances\n",
        "%matplotlib inline\n",
        "import matplotlib.pyplot as plt\n",
        "\n",
        "rf = pipeline.named_steps['randomforestregressor']\n",
        "importances = pd.Series(rf.feature_importances_, encoded.columns)\n",
        "\n",
        "# Plot top n feature importances\n",
        "n = 20\n",
        "plt.figure(figsize=(10,n/2))\n",
        "plt.title(f'Top {n} features')\n",
        "importances.sort_values()[-n:].plot.barh();"
      ],
      "execution_count": 32,
      "outputs": [
        {
          "output_type": "display_data",
          "data": {
            "image/png": "[encoded data removed]",
            "text/plain": [
              "<Figure size 720x720 with 1 Axes>"
            ]
          },
          "metadata": {
            "tags": []
          }
        }
      ]
    },
    {
      "cell_type": "code",
      "metadata": {
        "id": "nzk0gX94P_Qu",
        "colab_type": "code",
        "colab": {
          "base_uri": "https://localhost:8080/",
          "height": 144
        },
        "outputId": "4689b932-447a-4466-d926-2e2dad9964b3"
      },
      "source": [
        "transformers = make_pipeline(\n",
        "    ce.OneHotEncoder(use_cat_names=True), \n",
        "    SimpleImputer(strategy='median')\n",
        ")\n",
        "\n",
        "X_train_transformed = transformers.fit_transform(X_train)\n",
        "X_val_transformed = transformers.transform(X_val)\n",
        "\n",
        "model = RandomForestRegressor(n_estimators=30, random_state=24, n_jobs=-1)\n",
        "model.fit(X_train_transformed, y_train)"
      ],
      "execution_count": 35,
      "outputs": [
        {
          "output_type": "execute_result",
          "data": {
            "text/plain": [
              "RandomForestRegressor(bootstrap=True, ccp_alpha=0.0, criterion='mse',\n",
              "                      max_depth=None, max_features='auto', max_leaf_nodes=None,\n",
              "                      max_samples=None, min_impurity_decrease=0.0,\n",
              "                      min_impurity_split=None, min_samples_leaf=1,\n",
              "                      min_samples_split=2, min_weight_fraction_leaf=0.0,\n",
              "                      n_estimators=30, n_jobs=-1, oob_score=False,\n",
              "                      random_state=24, verbose=0, warm_start=False)"
            ]
          },
          "metadata": {
            "tags": []
          },
          "execution_count": 35
        }
      ]
    },
    {
      "cell_type": "code",
      "metadata": {
        "id": "JDGneT_9xDbZ",
        "colab_type": "code",
        "colab": {}
      },
      "source": [
        "#Using eli5 to do PermutationImportance\n",
        "\n",
        "import eli5\n",
        "from eli5.sklearn import PermutationImportance\n",
        "\n",
        "permuter = PermutationImportance(\n",
        "    model, \n",
        "    #scoring='accuracy', \n",
        "    n_iter=1, \n",
        "    random_state=1\n",
        ")\n",
        "\n",
        "permuter.fit(X_val_transformed, y_val)"
      ],
      "execution_count": 0,
      "outputs": []
    },
    {
      "cell_type": "code",
      "metadata": {
        "id": "Fu2z5ZsWvVp-",
        "colab_type": "code",
        "colab": {}
      },
      "source": [
        "feature_names = X_val.columns.tolist()\n",
        "pd.Series(permuter.feature_importances_, feature_names).sort_values()"
      ],
      "execution_count": 0,
      "outputs": []
    },
    {
      "cell_type": "code",
      "metadata": {
        "id": "Vq0YK5qevu2z",
        "colab_type": "code",
        "colab": {}
      },
      "source": [
        "# 2. Display permutation importances\n",
        "eli5.show_weights(\n",
        "    permuter, \n",
        "    top=None, # No limit: show permutation importances for all features\n",
        "    feature_names=feature_names # must be a list\n",
        ")"
      ],
      "execution_count": 0,
      "outputs": []
    },
    {
      "cell_type": "markdown",
      "metadata": {
        "id": "RuaKO5EZwCi_",
        "colab_type": "text"
      },
      "source": [
        "We can use importances for feature selection. \n",
        "We can remove features with zero importance. The model trains faster and the score does not decrease."
      ]
    },
    {
      "cell_type": "code",
      "metadata": {
        "id": "VO387iq5wUjn",
        "colab_type": "code",
        "colab": {}
      },
      "source": [
        "print('Shape before removing features:', X_train.shape)"
      ],
      "execution_count": 0,
      "outputs": []
    },
    {
      "cell_type": "code",
      "metadata": {
        "id": "SEOv1JF6wVQ_",
        "colab_type": "code",
        "colab": {}
      },
      "source": [
        "minimum_importance = 0\n",
        "mask = permuter.feature_importances_ > minimum_importance\n",
        "features = X_train.columns[mask]\n",
        "X_train = X_train[features]"
      ],
      "execution_count": 0,
      "outputs": []
    },
    {
      "cell_type": "code",
      "metadata": {
        "id": "0s8KCdwdwV8V",
        "colab_type": "code",
        "colab": {}
      },
      "source": [
        "print('Shape after removing features:', X_train.shape)"
      ],
      "execution_count": 0,
      "outputs": []
    },
    {
      "cell_type": "code",
      "metadata": {
        "id": "Ib6Wvz3ewVr5",
        "colab_type": "code",
        "colab": {}
      },
      "source": [
        "X_val = X_val[features]\n",
        "\n",
        "pipeline = make_pipeline(\n",
        "    ce.OrdinalEncoder(), \n",
        "    SimpleImputer(strategy='median'), \n",
        "    RandomForestRegressor(n_estimators=100, random_state=42, n_jobs=-1)\n",
        ")\n",
        "\n",
        "# Fit on train, score on val\n",
        "pipeline.fit(X_train, y_train)\n",
        "print('Validation Accuracy', pipeline.score(X_val, y_val))"
      ],
      "execution_count": 0,
      "outputs": []
    },
    {
      "cell_type": "code",
      "metadata": {
        "id": "o6jxEVpew3bY",
        "colab_type": "code",
        "colab": {}
      },
      "source": [
        "#from sklearn.metrics import mean_absolute_error, mean_squared_error"
      ],
      "execution_count": 0,
      "outputs": []
    },
    {
      "cell_type": "markdown",
      "metadata": {
        "id": "mQLF5aeNzx8Q",
        "colab_type": "text"
      },
      "source": [
        "###Avoid Overfitting By Early Stopping With XGBoost."
      ]
    },
    {
      "cell_type": "code",
      "metadata": {
        "id": "F2a5cUX2w3V_",
        "colab_type": "code",
        "colab": {}
      },
      "source": [
        "encoder = ce.OneHotEncoder()\n",
        "X_train_encoded = encoder.fit_transform(X_train)\n",
        "X_val_encoded = encoder.transform(X_val)\n",
        "\n",
        "model = XGBClassifier(\n",
        "    n_estimators=200, # <= 1000 trees, depend on early stopping\n",
        "    max_depth=3,       \n",
        "    learning_rate=0.5, # try higher learning rate\n",
        "    n_jobs=-1\n",
        ")\n",
        "\n",
        "eval_set = [(X_train_encoded, y_train), \n",
        "            (X_val_encoded, y_val)]\n",
        "\n",
        "model.fit(X_train_encoded, y_train, \n",
        "          eval_set=eval_set, \n",
        "          eval_metric='merror', \n",
        "          early_stopping_rounds=50) # Stop if the score hasn't improved in 50 rounds"
      ],
      "execution_count": 0,
      "outputs": []
    },
    {
      "cell_type": "markdown",
      "metadata": {
        "id": "19g4yfsS0eOo",
        "colab_type": "text"
      },
      "source": [
        "###Plotting for Validation Curve of this XGBoost model"
      ]
    },
    {
      "cell_type": "code",
      "metadata": {
        "id": "E7iDTb1I0cOH",
        "colab_type": "code",
        "colab": {}
      },
      "source": [
        "results = model.evals_result()\n",
        "train_error = results['validation_0']['merror']\n",
        "val_error = results['validation_1']['merror']\n",
        "epoch = list(range(1, len(train_error)+1))\n",
        "plt.plot(epoch, train_error, label='Train')\n",
        "plt.plot(epoch, val_error, label='Validation')\n",
        "plt.ylabel('Classification Error')\n",
        "plt.xlabel('Model Complexity (n_estimators)')\n",
        "plt.title('Validation Curve for this XGBoost model')\n",
        "plt.ylim((0.18, 0.22)) # Zoom in\n",
        "plt.legend();"
      ],
      "execution_count": 0,
      "outputs": []
    },
    {
      "cell_type": "markdown",
      "metadata": {
        "id": "TrlBKy72zDdA",
        "colab_type": "text"
      },
      "source": [
        "The MSE, MAE, RMSE, and R-Squared metrics are mainly used to evaluate the prediction error rates and model performance in regression analysis. MAE (Mean absolute error) represents the difference between the original and predicted values extracted by averaged the absolute difference over the data set.\n",
        "\n"
      ]
    },
    {
      "cell_type": "code",
      "metadata": {
        "id": "VaMos8Az6T7x",
        "colab_type": "code",
        "colab": {}
      },
      "source": [
        "\n",
        "\n"
      ],
      "execution_count": 0,
      "outputs": []
    }
  ]
}