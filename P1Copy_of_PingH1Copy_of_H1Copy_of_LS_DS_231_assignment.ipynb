{
  "nbformat": 4,
  "nbformat_minor": 0,
  "metadata": {
    "kernelspec": {
      "display_name": "Python 3",
      "language": "python",
      "name": "python3"
    },
    "language_info": {
      "codemirror_mode": {
        "name": "ipython",
        "version": 3
      },
      "file_extension": ".py",
      "mimetype": "text/x-python",
      "name": "python",
      "nbconvert_exporter": "python",
      "pygments_lexer": "ipython3",
      "version": "3.7.6"
    },
    "colab": {
      "name": "P1Copy of PingH1Copy of H1Copy of LS_DS_231_assignment.ipynb",
      "provenance": [],
      "machine_shape": "hm",
      "include_colab_link": true
    }
  },
  "cells": [
    {
      "cell_type": "markdown",
      "metadata": {
        "id": "view-in-github",
        "colab_type": "text"
      },
      "source": [
        "<a href=\"https://colab.research.google.com/github/pingao2019/DS-Unit-2-Applied-Modeling/blob/master/P1Copy_of_PingH1Copy_of_H1Copy_of_LS_DS_231_assignment.ipynb\" target=\"_parent\"><img src=\"https://colab.research.google.com/assets/colab-badge.svg\" alt=\"Open In Colab\"/></a>"
      ]
    },
    {
      "cell_type": "markdown",
      "metadata": {
        "colab_type": "text",
        "id": "nCc3XZEyG3XV"
      },
      "source": [
        "Lambda School Data Science\n",
        "\n",
        "*Unit 2, Sprint 3, Module 1*\n",
        "\n",
        "---\n",
        "\n",
        "\n",
        "# Define ML problems\n",
        "\n",
        "You will use your portfolio project dataset for all assignments this sprint.\n",
        "\n",
        "## Assignment\n",
        "\n",
        "Complete these tasks for your project, and document your decisions.\n",
        "\n",
        "- [ ] Choose your target. Which column in your tabular dataset will you predict?\n",
        "- [ ] Is your problem regression or classification?\n",
        "- [ ] How is your target distributed?\n",
        "    - Classification: How many classes? Are the classes imbalanced?\n",
        "    - Regression: Is the target right-skewed? If so, you may want to log transform the target.\n",
        "- [ ] Choose your evaluation metric(s).\n",
        "    - Classification: Is your majority class frequency >= 50% and < 70% ? If so, you can just use accuracy if you want. Outside that range, accuracy could be misleading. What evaluation metric will you choose, in addition to or instead of accuracy?\n",
        "    - Regression: Will you use mean absolute error, root mean squared error, R^2, or other regression metrics?\n",
        "- [ ] Choose which observations you will use to train, validate, and test your model.\n",
        "    - Are some observations outliers? Will you exclude them?\n",
        "    - Will you do a random split or a time-based split?\n",
        "- [ ] Begin to clean and explore your data.\n",
        "- [ ] Begin to choose which features, if any, to exclude. Would some features \"leak\" future information?\n",
        "\n",
        "If you haven't found a dataset yet, do that today. [Review requirements for your portfolio project](https://lambdaschool.github.io/ds/unit2) and choose your dataset.\n",
        "\n",
        "Some students worry, ***what if my model isn't “good”?*** Then, [produce a detailed tribute to your wrongness. That is science!](https://twitter.com/nathanwpyle/status/1176860147223867393)"
      ]
    },
    {
      "cell_type": "markdown",
      "metadata": {
        "id": "-f604BpWQfH-",
        "colab_type": "text"
      },
      "source": [
        "My dataset is from https://www.bls.gov/web/cewqtr.supp.toc.htm"
      ]
    },
    {
      "cell_type": "markdown",
      "metadata": {
        "id": "JCjwHWvnfLKE",
        "colab_type": "text"
      },
      "source": [
        "Choose your target.----------wage.\n",
        "\n",
        "Which column in your tabular dataset will you predict?----Average Weekly Wage\n",
        "\n",
        "Is your problem regression or classification?-------------regression\n",
        "\n"
      ]
    },
    {
      "cell_type": "code",
      "metadata": {
        "id": "jKKCmJ4kUrzM",
        "colab_type": "code",
        "colab": {
          "base_uri": "https://localhost:8080/",
          "height": 313
        },
        "outputId": "644aee6d-e8a1-46f5-dc7e-3f9896bd43b5"
      },
      "source": [
        "!pip install category_encoders==2.*"
      ],
      "execution_count": 5,
      "outputs": [
        {
          "output_type": "stream",
          "text": [
            "Collecting category_encoders==2.*\n",
            "\u001b[?25l  Downloading https://files.pythonhosted.org/packages/a0/52/c54191ad3782de633ea3d6ee3bb2837bda0cf3bc97644bb6375cf14150a0/category_encoders-2.1.0-py2.py3-none-any.whl (100kB)\n",
            "\r\u001b[K     |███▎                            | 10kB 15.1MB/s eta 0:00:01\r\u001b[K     |██████▌                         | 20kB 1.7MB/s eta 0:00:01\r\u001b[K     |█████████▉                      | 30kB 2.4MB/s eta 0:00:01\r\u001b[K     |█████████████                   | 40kB 3.2MB/s eta 0:00:01\r\u001b[K     |████████████████▍               | 51kB 2.1MB/s eta 0:00:01\r\u001b[K     |███████████████████▋            | 61kB 2.4MB/s eta 0:00:01\r\u001b[K     |██████████████████████▉         | 71kB 2.8MB/s eta 0:00:01\r\u001b[K     |██████████████████████████▏     | 81kB 3.2MB/s eta 0:00:01\r\u001b[K     |█████████████████████████████▍  | 92kB 3.5MB/s eta 0:00:01\r\u001b[K     |████████████████████████████████| 102kB 2.2MB/s \n",
            "\u001b[?25hRequirement already satisfied: numpy>=1.11.3 in /usr/local/lib/python3.6/dist-packages (from category_encoders==2.*) (1.17.5)\n",
            "Requirement already satisfied: statsmodels>=0.6.1 in /usr/local/lib/python3.6/dist-packages (from category_encoders==2.*) (0.10.2)\n",
            "Requirement already satisfied: scikit-learn>=0.20.0 in /usr/local/lib/python3.6/dist-packages (from category_encoders==2.*) (0.22.1)\n",
            "Requirement already satisfied: pandas>=0.21.1 in /usr/local/lib/python3.6/dist-packages (from category_encoders==2.*) (0.25.3)\n",
            "Requirement already satisfied: scipy>=0.19.0 in /usr/local/lib/python3.6/dist-packages (from category_encoders==2.*) (1.4.1)\n",
            "Requirement already satisfied: patsy>=0.4.1 in /usr/local/lib/python3.6/dist-packages (from category_encoders==2.*) (0.5.1)\n",
            "Requirement already satisfied: joblib>=0.11 in /usr/local/lib/python3.6/dist-packages (from scikit-learn>=0.20.0->category_encoders==2.*) (0.14.1)\n",
            "Requirement already satisfied: python-dateutil>=2.6.1 in /usr/local/lib/python3.6/dist-packages (from pandas>=0.21.1->category_encoders==2.*) (2.6.1)\n",
            "Requirement already satisfied: pytz>=2017.2 in /usr/local/lib/python3.6/dist-packages (from pandas>=0.21.1->category_encoders==2.*) (2018.9)\n",
            "Requirement already satisfied: six in /usr/local/lib/python3.6/dist-packages (from patsy>=0.4.1->category_encoders==2.*) (1.12.0)\n",
            "Installing collected packages: category-encoders\n",
            "Successfully installed category-encoders-2.1.0\n"
          ],
          "name": "stdout"
        }
      ]
    },
    {
      "cell_type": "code",
      "metadata": {
        "id": "_czxb4cTPGCF",
        "colab_type": "code",
        "outputId": "5fd63b55-8f58-4234-d537-b57741929976",
        "colab": {
          "base_uri": "https://localhost:8080/",
          "height": 505
        }
      },
      "source": [
        "import pandas as pd\n",
        "df=pd.read_excel('2019_2ndQ_wage_industry.xlsx')\n",
        "print(df.shape)\n",
        "df.head()"
      ],
      "execution_count": 13,
      "outputs": [
        {
          "output_type": "stream",
          "text": [
            "(62742, 21)\n"
          ],
          "name": "stdout"
        },
        {
          "output_type": "execute_result",
          "data": {
            "text/html": [
              "<div>\n",
              "<style scoped>\n",
              "    .dataframe tbody tr th:only-of-type {\n",
              "        vertical-align: middle;\n",
              "    }\n",
              "\n",
              "    .dataframe tbody tr th {\n",
              "        vertical-align: top;\n",
              "    }\n",
              "\n",
              "    .dataframe thead th {\n",
              "        text-align: right;\n",
              "    }\n",
              "</style>\n",
              "<table border=\"1\" class=\"dataframe\">\n",
              "  <thead>\n",
              "    <tr style=\"text-align: right;\">\n",
              "      <th></th>\n",
              "      <th>Area\\nCode</th>\n",
              "      <th>St</th>\n",
              "      <th>Cnty</th>\n",
              "      <th>Own</th>\n",
              "      <th>NAICS</th>\n",
              "      <th>Year</th>\n",
              "      <th>Qtr</th>\n",
              "      <th>Area Type</th>\n",
              "      <th>St Name</th>\n",
              "      <th>Area</th>\n",
              "      <th>Ownership</th>\n",
              "      <th>Industry</th>\n",
              "      <th>Status Code</th>\n",
              "      <th>Establishment Count</th>\n",
              "      <th>April Employment</th>\n",
              "      <th>May Employment</th>\n",
              "      <th>June Employment</th>\n",
              "      <th>Total Quarterly Wages</th>\n",
              "      <th>Average Weekly Wage</th>\n",
              "      <th>Employment Location Quotient Relative to U.S.</th>\n",
              "      <th>Total Wage Location Quotient Relative to U.S.</th>\n",
              "    </tr>\n",
              "  </thead>\n",
              "  <tbody>\n",
              "    <tr>\n",
              "      <th>0</th>\n",
              "      <td>US000</td>\n",
              "      <td>US</td>\n",
              "      <td>0.0</td>\n",
              "      <td>0</td>\n",
              "      <td>10</td>\n",
              "      <td>2019</td>\n",
              "      <td>2</td>\n",
              "      <td>Nation</td>\n",
              "      <td>NaN</td>\n",
              "      <td>U.S. TOTAL</td>\n",
              "      <td>Total Covered</td>\n",
              "      <td>10 Total, all industries</td>\n",
              "      <td>NaN</td>\n",
              "      <td>10252043</td>\n",
              "      <td>147522541</td>\n",
              "      <td>148607380</td>\n",
              "      <td>149089158</td>\n",
              "      <td>2111761785894</td>\n",
              "      <td>1095</td>\n",
              "      <td>1.0</td>\n",
              "      <td>1.0</td>\n",
              "    </tr>\n",
              "    <tr>\n",
              "      <th>1</th>\n",
              "      <td>US000</td>\n",
              "      <td>US</td>\n",
              "      <td>0.0</td>\n",
              "      <td>1</td>\n",
              "      <td>10</td>\n",
              "      <td>2019</td>\n",
              "      <td>2</td>\n",
              "      <td>Nation</td>\n",
              "      <td>NaN</td>\n",
              "      <td>U.S. TOTAL</td>\n",
              "      <td>Federal Government</td>\n",
              "      <td>10 Total, all industries</td>\n",
              "      <td>NaN</td>\n",
              "      <td>59824</td>\n",
              "      <td>2800541</td>\n",
              "      <td>2814885</td>\n",
              "      <td>2827888</td>\n",
              "      <td>59738450845</td>\n",
              "      <td>1633</td>\n",
              "      <td>1.0</td>\n",
              "      <td>1.0</td>\n",
              "    </tr>\n",
              "    <tr>\n",
              "      <th>2</th>\n",
              "      <td>US000</td>\n",
              "      <td>US</td>\n",
              "      <td>0.0</td>\n",
              "      <td>2</td>\n",
              "      <td>10</td>\n",
              "      <td>2019</td>\n",
              "      <td>2</td>\n",
              "      <td>Nation</td>\n",
              "      <td>NaN</td>\n",
              "      <td>U.S. TOTAL</td>\n",
              "      <td>State Government</td>\n",
              "      <td>10 Total, all industries</td>\n",
              "      <td>NaN</td>\n",
              "      <td>69905</td>\n",
              "      <td>4680392</td>\n",
              "      <td>4678471</td>\n",
              "      <td>4605421</td>\n",
              "      <td>72130616273</td>\n",
              "      <td>1192</td>\n",
              "      <td>1.0</td>\n",
              "      <td>1.0</td>\n",
              "    </tr>\n",
              "    <tr>\n",
              "      <th>3</th>\n",
              "      <td>US000</td>\n",
              "      <td>US</td>\n",
              "      <td>0.0</td>\n",
              "      <td>3</td>\n",
              "      <td>10</td>\n",
              "      <td>2019</td>\n",
              "      <td>2</td>\n",
              "      <td>Nation</td>\n",
              "      <td>NaN</td>\n",
              "      <td>U.S. TOTAL</td>\n",
              "      <td>Local Government</td>\n",
              "      <td>10 Total, all industries</td>\n",
              "      <td>NaN</td>\n",
              "      <td>171092</td>\n",
              "      <td>14591536</td>\n",
              "      <td>14698871</td>\n",
              "      <td>14377408</td>\n",
              "      <td>197299604678</td>\n",
              "      <td>1043</td>\n",
              "      <td>1.0</td>\n",
              "      <td>1.0</td>\n",
              "    </tr>\n",
              "    <tr>\n",
              "      <th>4</th>\n",
              "      <td>US000</td>\n",
              "      <td>US</td>\n",
              "      <td>0.0</td>\n",
              "      <td>5</td>\n",
              "      <td>10</td>\n",
              "      <td>2019</td>\n",
              "      <td>2</td>\n",
              "      <td>Nation</td>\n",
              "      <td>NaN</td>\n",
              "      <td>U.S. TOTAL</td>\n",
              "      <td>Private</td>\n",
              "      <td>10 Total, all industries</td>\n",
              "      <td>NaN</td>\n",
              "      <td>9951222</td>\n",
              "      <td>125450072</td>\n",
              "      <td>126415153</td>\n",
              "      <td>127278441</td>\n",
              "      <td>1782593114098</td>\n",
              "      <td>1085</td>\n",
              "      <td>1.0</td>\n",
              "      <td>1.0</td>\n",
              "    </tr>\n",
              "  </tbody>\n",
              "</table>\n",
              "</div>"
            ],
            "text/plain": [
              "  Area\\nCode  ... Total Wage Location Quotient Relative to U.S.\n",
              "0      US000  ...                                           1.0\n",
              "1      US000  ...                                           1.0\n",
              "2      US000  ...                                           1.0\n",
              "3      US000  ...                                           1.0\n",
              "4      US000  ...                                           1.0\n",
              "\n",
              "[5 rows x 21 columns]"
            ]
          },
          "metadata": {
            "tags": []
          },
          "execution_count": 13
        }
      ]
    },
    {
      "cell_type": "markdown",
      "metadata": {
        "id": "es0kEedNSieF",
        "colab_type": "text"
      },
      "source": [
        "There are 13 weeks in this quarter. According to BLS describe about this data set,\"average weekly wage values are calculated by dividing quarterly total wages by the average of the three monthly.\"Average weekly wages are affected by the ratio of full-time to part-time workers as well as the number of \n",
        "individuals in high-paying and low-paying occupations and the incidence of pay periods within a quarter. For instance, the average weekly wage of the workforce could increase significantly when there is a large decline in \n",
        "the number of employees that had been receiving below-average wages. Wages may include payments to workers not present in the employment counts because they did not work during the pay period including the 12th of the \n",
        "month. When comparing average weekly wage levels between industries, states, or quarters, these factors should \n",
        "be taken into consideration.\n"
      ]
    },
    {
      "cell_type": "code",
      "metadata": {
        "id": "WGV9JcRfuUtT",
        "colab_type": "code",
        "outputId": "a5ee0e77-35fe-41f5-b368-43ae3b683c96",
        "colab": {
          "base_uri": "https://localhost:8080/",
          "height": 421
        }
      },
      "source": [
        "df.isnull().sum()"
      ],
      "execution_count": 4,
      "outputs": [
        {
          "output_type": "execute_result",
          "data": {
            "text/plain": [
              "Area\\nCode                                           0\n",
              "St                                                6709\n",
              "Cnty                                              6709\n",
              "Own                                                  0\n",
              "NAICS                                                0\n",
              "Year                                                 0\n",
              "Qtr                                                  0\n",
              "Area Type                                            0\n",
              "St Name                                           6727\n",
              "Area                                                 0\n",
              "Ownership                                            0\n",
              "Industry                                             0\n",
              "Status Code                                      59123\n",
              "Establishment Count                                  0\n",
              "April Employment                                     0\n",
              "May Employment                                       0\n",
              "June Employment                                      0\n",
              "Total Quarterly Wages                                0\n",
              "Average Weekly Wage                                  0\n",
              "Employment Location Quotient Relative to U.S.        0\n",
              "Total Wage Location Quotient Relative to U.S.        0\n",
              "dtype: int64"
            ]
          },
          "metadata": {
            "tags": []
          },
          "execution_count": 4
        }
      ]
    },
    {
      "cell_type": "code",
      "metadata": {
        "id": "sdAtvuIZQuYh",
        "colab_type": "code",
        "outputId": "a0adcf00-2fcd-498e-a9b8-b03e568cc97e",
        "colab": {
          "base_uri": "https://localhost:8080/",
          "height": 403
        }
      },
      "source": [
        "df.columns.to_list()"
      ],
      "execution_count": 5,
      "outputs": [
        {
          "output_type": "execute_result",
          "data": {
            "text/plain": [
              "['Area\\nCode',\n",
              " 'St',\n",
              " 'Cnty',\n",
              " 'Own',\n",
              " 'NAICS',\n",
              " 'Year',\n",
              " 'Qtr',\n",
              " 'Area Type',\n",
              " 'St Name',\n",
              " 'Area',\n",
              " 'Ownership',\n",
              " 'Industry',\n",
              " 'Status Code',\n",
              " 'Establishment Count',\n",
              " 'April Employment',\n",
              " 'May Employment',\n",
              " 'June Employment',\n",
              " 'Total Quarterly Wages',\n",
              " 'Average Weekly Wage',\n",
              " 'Employment Location Quotient Relative to U.S.',\n",
              " 'Total Wage Location Quotient Relative to U.S.']"
            ]
          },
          "metadata": {
            "tags": []
          },
          "execution_count": 5
        }
      ]
    },
    {
      "cell_type": "code",
      "metadata": {
        "id": "Joia9OWfWyKu",
        "colab_type": "code",
        "colab": {}
      },
      "source": [
        ""
      ],
      "execution_count": 0,
      "outputs": []
    },
    {
      "cell_type": "code",
      "metadata": {
        "id": "8W7HXsQzQuPS",
        "colab_type": "code",
        "colab": {}
      },
      "source": [
        "df= df.drop(columns=['Cnty',  'St Name', 'Status Code'])"
      ],
      "execution_count": 0,
      "outputs": []
    },
    {
      "cell_type": "code",
      "metadata": {
        "id": "mpHxiH30RlLb",
        "colab_type": "code",
        "colab": {}
      },
      "source": [
        "df=df.drop(columns=['Year','Qtr','Total Quarterly Wages'])"
      ],
      "execution_count": 0,
      "outputs": []
    },
    {
      "cell_type": "code",
      "metadata": {
        "id": "Ls2m1onUllWL",
        "colab_type": "code",
        "outputId": "66568653-fb60-4258-bcc6-34e8587811a0",
        "colab": {
          "base_uri": "https://localhost:8080/",
          "height": 352
        }
      },
      "source": [
        "df.describe()"
      ],
      "execution_count": 137,
      "outputs": [
        {
          "output_type": "execute_result",
          "data": {
            "text/html": [
              "<div>\n",
              "<style scoped>\n",
              "    .dataframe tbody tr th:only-of-type {\n",
              "        vertical-align: middle;\n",
              "    }\n",
              "\n",
              "    .dataframe tbody tr th {\n",
              "        vertical-align: top;\n",
              "    }\n",
              "\n",
              "    .dataframe thead th {\n",
              "        text-align: right;\n",
              "    }\n",
              "</style>\n",
              "<table border=\"1\" class=\"dataframe\">\n",
              "  <thead>\n",
              "    <tr style=\"text-align: right;\">\n",
              "      <th></th>\n",
              "      <th>Cnty</th>\n",
              "      <th>Own</th>\n",
              "      <th>NAICS</th>\n",
              "      <th>Establishment Count</th>\n",
              "      <th>April Employment</th>\n",
              "      <th>May Employment</th>\n",
              "      <th>June Employment</th>\n",
              "      <th>Average Weekly Wage</th>\n",
              "      <th>Employment Location Quotient Relative to U.S.</th>\n",
              "      <th>Total Wage Location Quotient Relative to U.S.</th>\n",
              "    </tr>\n",
              "  </thead>\n",
              "  <tbody>\n",
              "    <tr>\n",
              "      <th>count</th>\n",
              "      <td>56033.000000</td>\n",
              "      <td>62742.000000</td>\n",
              "      <td>62742.000000</td>\n",
              "      <td>6.274200e+04</td>\n",
              "      <td>6.274200e+04</td>\n",
              "      <td>6.274200e+04</td>\n",
              "      <td>6.274200e+04</td>\n",
              "      <td>62742.000000</td>\n",
              "      <td>62742.000000</td>\n",
              "      <td>62742.000000</td>\n",
              "    </tr>\n",
              "    <tr>\n",
              "      <th>mean</th>\n",
              "      <td>115.945282</td>\n",
              "      <td>4.195977</td>\n",
              "      <td>624.283399</td>\n",
              "      <td>2.453553e+03</td>\n",
              "      <td>3.350102e+04</td>\n",
              "      <td>3.374713e+04</td>\n",
              "      <td>3.390944e+04</td>\n",
              "      <td>798.408466</td>\n",
              "      <td>1.072296</td>\n",
              "      <td>1.110454</td>\n",
              "    </tr>\n",
              "    <tr>\n",
              "      <th>std</th>\n",
              "      <td>153.531987</td>\n",
              "      <td>1.568151</td>\n",
              "      <td>483.586548</td>\n",
              "      <td>7.083353e+04</td>\n",
              "      <td>9.306942e+05</td>\n",
              "      <td>9.374311e+05</td>\n",
              "      <td>9.419742e+05</td>\n",
              "      <td>383.358658</td>\n",
              "      <td>3.158758</td>\n",
              "      <td>3.167968</td>\n",
              "    </tr>\n",
              "    <tr>\n",
              "      <th>min</th>\n",
              "      <td>0.000000</td>\n",
              "      <td>0.000000</td>\n",
              "      <td>10.000000</td>\n",
              "      <td>1.000000e+00</td>\n",
              "      <td>0.000000e+00</td>\n",
              "      <td>0.000000e+00</td>\n",
              "      <td>0.000000e+00</td>\n",
              "      <td>0.000000</td>\n",
              "      <td>0.000000</td>\n",
              "      <td>0.000000</td>\n",
              "    </tr>\n",
              "    <tr>\n",
              "      <th>25%</th>\n",
              "      <td>33.000000</td>\n",
              "      <td>5.000000</td>\n",
              "      <td>10.000000</td>\n",
              "      <td>1.900000e+01</td>\n",
              "      <td>1.390000e+02</td>\n",
              "      <td>1.430000e+02</td>\n",
              "      <td>1.450000e+02</td>\n",
              "      <td>621.000000</td>\n",
              "      <td>0.500000</td>\n",
              "      <td>0.412500</td>\n",
              "    </tr>\n",
              "    <tr>\n",
              "      <th>50%</th>\n",
              "      <td>79.000000</td>\n",
              "      <td>5.000000</td>\n",
              "      <td>1012.000000</td>\n",
              "      <td>7.200000e+01</td>\n",
              "      <td>8.940000e+02</td>\n",
              "      <td>9.070000e+02</td>\n",
              "      <td>9.170000e+02</td>\n",
              "      <td>785.000000</td>\n",
              "      <td>0.860000</td>\n",
              "      <td>0.830000</td>\n",
              "    </tr>\n",
              "    <tr>\n",
              "      <th>75%</th>\n",
              "      <td>137.000000</td>\n",
              "      <td>5.000000</td>\n",
              "      <td>1024.000000</td>\n",
              "      <td>3.730000e+02</td>\n",
              "      <td>5.259000e+03</td>\n",
              "      <td>5.312000e+03</td>\n",
              "      <td>5.342000e+03</td>\n",
              "      <td>981.000000</td>\n",
              "      <td>1.100000</td>\n",
              "      <td>1.140000</td>\n",
              "    </tr>\n",
              "    <tr>\n",
              "      <th>max</th>\n",
              "      <td>999.000000</td>\n",
              "      <td>5.000000</td>\n",
              "      <td>1029.000000</td>\n",
              "      <td>1.025204e+07</td>\n",
              "      <td>1.475225e+08</td>\n",
              "      <td>1.486074e+08</td>\n",
              "      <td>1.490892e+08</td>\n",
              "      <td>6538.000000</td>\n",
              "      <td>655.850000</td>\n",
              "      <td>620.910000</td>\n",
              "    </tr>\n",
              "  </tbody>\n",
              "</table>\n",
              "</div>"
            ],
            "text/plain": [
              "               Cnty  ...  Total Wage Location Quotient Relative to U.S.\n",
              "count  56033.000000  ...                                   62742.000000\n",
              "mean     115.945282  ...                                       1.110454\n",
              "std      153.531987  ...                                       3.167968\n",
              "min        0.000000  ...                                       0.000000\n",
              "25%       33.000000  ...                                       0.412500\n",
              "50%       79.000000  ...                                       0.830000\n",
              "75%      137.000000  ...                                       1.140000\n",
              "max      999.000000  ...                                     620.910000\n",
              "\n",
              "[8 rows x 10 columns]"
            ]
          },
          "metadata": {
            "tags": []
          },
          "execution_count": 137
        }
      ]
    },
    {
      "cell_type": "code",
      "metadata": {
        "id": "eMO3m5OaxRNj",
        "colab_type": "code",
        "colab": {}
      },
      "source": [
        "df.columns.to_list()"
      ],
      "execution_count": 0,
      "outputs": []
    },
    {
      "cell_type": "code",
      "metadata": {
        "id": "MLfwJFMvaOTs",
        "colab_type": "code",
        "outputId": "db10ea91-740e-4978-e62d-c752795ca82b",
        "colab": {
          "base_uri": "https://localhost:8080/",
          "height": 35
        }
      },
      "source": [
        "df.select_dtypes(exclude=\"number\").columns.tolist()"
      ],
      "execution_count": 38,
      "outputs": [
        {
          "output_type": "execute_result",
          "data": {
            "text/plain": [
              "['Area\\nCode', 'St', 'Area Type', 'Area', 'Ownership', 'Industry']"
            ]
          },
          "metadata": {
            "tags": []
          },
          "execution_count": 38
        }
      ]
    },
    {
      "cell_type": "code",
      "metadata": {
        "id": "8nVL-Y4zP_af",
        "colab_type": "code",
        "outputId": "56e28831-7e8a-4767-a3b1-38d148061093",
        "colab": {
          "base_uri": "https://localhost:8080/",
          "height": 237
        }
      },
      "source": [
        "df['Area\\nCode'].value_counts()"
      ],
      "execution_count": 8,
      "outputs": [
        {
          "output_type": "execute_result",
          "data": {
            "text/plain": [
              "48401    18\n",
              "C1714    18\n",
              "51133    18\n",
              "41061    18\n",
              "48437    18\n",
              "         ..\n",
              "31117    12\n",
              "19999    11\n",
              "38087    11\n",
              "31007    11\n",
              "11999    10\n",
              "Name: Area\\nCode, Length: 3624, dtype: int64"
            ]
          },
          "metadata": {
            "tags": []
          },
          "execution_count": 8
        }
      ]
    },
    {
      "cell_type": "code",
      "metadata": {
        "id": "-O2hxAi-ZIxB",
        "colab_type": "code",
        "colab": {}
      },
      "source": [
        "# drop na in the state(St)\n",
        "df=df.dropna(subset=['St'])"
      ],
      "execution_count": 0,
      "outputs": []
    },
    {
      "cell_type": "code",
      "metadata": {
        "id": "veiYy4vNZovy",
        "colab_type": "code",
        "colab": {
          "base_uri": "https://localhost:8080/",
          "height": 329
        },
        "outputId": "d09c7aca-21bc-4fa2-c4c4-de96e71ff0cb"
      },
      "source": [
        "df.isnull().sum()"
      ],
      "execution_count": 14,
      "outputs": [
        {
          "output_type": "execute_result",
          "data": {
            "text/plain": [
              "Area\\nCode                                       0\n",
              "St                                               0\n",
              "Own                                              0\n",
              "NAICS                                            0\n",
              "Area Type                                        0\n",
              "Area                                             0\n",
              "Ownership                                        0\n",
              "Industry                                         0\n",
              "Establishment Count                              0\n",
              "April Employment                                 0\n",
              "May Employment                                   0\n",
              "June Employment                                  0\n",
              "Total Quarterly Wages                            0\n",
              "Average Weekly Wage                              0\n",
              "Employment Location Quotient Relative to U.S.    0\n",
              "Total Wage Location Quotient Relative to U.S.    0\n",
              "dtype: int64"
            ]
          },
          "metadata": {
            "tags": []
          },
          "execution_count": 14
        }
      ]
    },
    {
      "cell_type": "code",
      "metadata": {
        "id": "GFtXXonkiLKI",
        "colab_type": "code",
        "outputId": "c21b03e6-c5a2-4bb7-de91-f229eb5408d2",
        "colab": {
          "base_uri": "https://localhost:8080/",
          "height": 109
        }
      },
      "source": [
        "df['St'].unique()"
      ],
      "execution_count": 15,
      "outputs": [
        {
          "output_type": "execute_result",
          "data": {
            "text/plain": [
              "array(['US', '01', '02', '04', '05', '06', '08', '09', '10', '11', '12',\n",
              "       '13', '15', '16', '17', '18', '19', '20', '21', '22', '23', '24',\n",
              "       '25', '26', '27', '28', '29', '30', '31', '32', '33', '34', '35',\n",
              "       '36', '37', '38', '39', '40', '41', '42', '44', '45', '46', '47',\n",
              "       '48', '49', '50', '51', '53', '54', '55', '56'], dtype=object)"
            ]
          },
          "metadata": {
            "tags": []
          },
          "execution_count": 15
        }
      ]
    },
    {
      "cell_type": "code",
      "metadata": {
        "id": "96CAH9h-iqYO",
        "colab_type": "code",
        "outputId": "aca4db72-072c-47e8-89b1-a2017db98c0b",
        "colab": {
          "base_uri": "https://localhost:8080/",
          "height": 127
        }
      },
      "source": [
        "df['Own'].value_counts()"
      ],
      "execution_count": 16,
      "outputs": [
        {
          "output_type": "execute_result",
          "data": {
            "text/plain": [
              "5    43161\n",
              "0     3243\n",
              "1     3240\n",
              "3     3227\n",
              "2     3162\n",
              "Name: Own, dtype: int64"
            ]
          },
          "metadata": {
            "tags": []
          },
          "execution_count": 16
        }
      ]
    },
    {
      "cell_type": "code",
      "metadata": {
        "id": "-PcweWKdjKeU",
        "colab_type": "code",
        "outputId": "394e0429-08f7-4127-9030-64df8fd0fdb0",
        "colab": {
          "base_uri": "https://localhost:8080/",
          "height": 35
        }
      },
      "source": [
        "df['Area Type'].unique()"
      ],
      "execution_count": 18,
      "outputs": [
        {
          "output_type": "execute_result",
          "data": {
            "text/plain": [
              "array(['Nation', 'State', 'County'], dtype=object)"
            ]
          },
          "metadata": {
            "tags": []
          },
          "execution_count": 18
        }
      ]
    },
    {
      "cell_type": "code",
      "metadata": {
        "id": "19q8XaLxjj5L",
        "colab_type": "code",
        "outputId": "8f9dff4a-762c-4508-eb78-e19b6e5669ff",
        "colab": {
          "base_uri": "https://localhost:8080/",
          "height": 72
        }
      },
      "source": [
        "df['Area'].unique()\n"
      ],
      "execution_count": 21,
      "outputs": [
        {
          "output_type": "execute_result",
          "data": {
            "text/plain": [
              "array(['U.S. TOTAL', 'Alabama -- Statewide', 'Autauga County, Alabama',\n",
              "       ..., 'Washakie County, Wyoming', 'Weston County, Wyoming',\n",
              "       'Unknown Or Undefined, Wyoming'], dtype=object)"
            ]
          },
          "metadata": {
            "tags": []
          },
          "execution_count": 21
        }
      ]
    },
    {
      "cell_type": "code",
      "metadata": {
        "id": "A4SLaiZ-uWOw",
        "colab_type": "code",
        "colab": {
          "base_uri": "https://localhost:8080/",
          "height": 109
        },
        "outputId": "f88653b8-8ed7-4f14-942b-6b867afad3a4"
      },
      "source": [
        "df['Area'].describe()"
      ],
      "execution_count": 22,
      "outputs": [
        {
          "output_type": "execute_result",
          "data": {
            "text/plain": [
              "count                    56033\n",
              "unique                    3242\n",
              "top       District of Columbia\n",
              "freq                        36\n",
              "Name: Area, dtype: object"
            ]
          },
          "metadata": {
            "tags": []
          },
          "execution_count": 22
        }
      ]
    },
    {
      "cell_type": "code",
      "metadata": {
        "id": "bdlye6cSay5P",
        "colab_type": "code",
        "outputId": "04ed2a42-3963-4240-9730-11c722396310",
        "colab": {
          "base_uri": "https://localhost:8080/",
          "height": 54
        }
      },
      "source": [
        "df['Ownership'].unique()"
      ],
      "execution_count": 23,
      "outputs": [
        {
          "output_type": "execute_result",
          "data": {
            "text/plain": [
              "array(['Total Covered', 'Federal Government', 'State Government',\n",
              "       'Local Government', 'Private'], dtype=object)"
            ]
          },
          "metadata": {
            "tags": []
          },
          "execution_count": 23
        }
      ]
    },
    {
      "cell_type": "code",
      "metadata": {
        "id": "9vDLTuvSutuy",
        "colab_type": "code",
        "colab": {
          "base_uri": "https://localhost:8080/",
          "height": 182
        },
        "outputId": "c01c9587-ef32-4b50-fd63-926736557e02"
      },
      "source": [
        "df['Industry'].unique()"
      ],
      "execution_count": 24,
      "outputs": [
        {
          "output_type": "execute_result",
          "data": {
            "text/plain": [
              "array(['10 Total, all industries', '101 Goods-producing',\n",
              "       '1011 Natural resources and mining', '1012 Construction',\n",
              "       '1013 Manufacturing', '102 Service-providing',\n",
              "       '1021 Trade, transportation, and utilities', '1022 Information',\n",
              "       '1023 Financial activities',\n",
              "       '1024 Professional and business services',\n",
              "       '1025 Education and health services',\n",
              "       '1026 Leisure and hospitality', '1027 Other services',\n",
              "       '1029 Unclassified'], dtype=object)"
            ]
          },
          "metadata": {
            "tags": []
          },
          "execution_count": 24
        }
      ]
    },
    {
      "cell_type": "code",
      "metadata": {
        "id": "FSnU7hpUi9Hp",
        "colab_type": "code",
        "outputId": "00718cbf-78b0-4c29-bbde-4dc225d882f7",
        "colab": {
          "base_uri": "https://localhost:8080/",
          "height": 182
        }
      },
      "source": [
        "df['NAICS'].describe()"
      ],
      "execution_count": 39,
      "outputs": [
        {
          "output_type": "execute_result",
          "data": {
            "text/plain": [
              "count    56033.000000\n",
              "mean       623.649010\n",
              "std        483.698825\n",
              "min         10.000000\n",
              "25%         10.000000\n",
              "50%       1012.000000\n",
              "75%       1024.000000\n",
              "max       1029.000000\n",
              "Name: NAICS, dtype: float64"
            ]
          },
          "metadata": {
            "tags": []
          },
          "execution_count": 39
        }
      ]
    },
    {
      "cell_type": "code",
      "metadata": {
        "id": "Mp6pTI9puwhj",
        "colab_type": "code",
        "colab": {
          "base_uri": "https://localhost:8080/",
          "height": 182
        },
        "outputId": "120359d4-b2b9-405a-eb74-e10ed98bd838"
      },
      "source": [
        "df['Establishment Count'].describe()"
      ],
      "execution_count": 26,
      "outputs": [
        {
          "output_type": "execute_result",
          "data": {
            "text/plain": [
              "count    5.603300e+04\n",
              "mean     2.163361e+03\n",
              "std      7.448280e+04\n",
              "min      1.000000e+00\n",
              "25%      1.600000e+01\n",
              "50%      5.700000e+01\n",
              "75%      2.700000e+02\n",
              "max      1.025204e+07\n",
              "Name: Establishment Count, dtype: float64"
            ]
          },
          "metadata": {
            "tags": []
          },
          "execution_count": 26
        }
      ]
    },
    {
      "cell_type": "code",
      "metadata": {
        "id": "EJhDXmipuwcA",
        "colab_type": "code",
        "colab": {
          "base_uri": "https://localhost:8080/",
          "height": 182
        },
        "outputId": "2f4776fc-1651-4822-e76e-6e2c3dd91e2c"
      },
      "source": [
        "df['April Employment'].describe()"
      ],
      "execution_count": 27,
      "outputs": [
        {
          "output_type": "execute_result",
          "data": {
            "text/plain": [
              "count    5.603300e+04\n",
              "mean     2.917408e+04\n",
              "std      9.788781e+05\n",
              "min      0.000000e+00\n",
              "25%      1.170000e+02\n",
              "50%      6.810000e+02\n",
              "75%      3.678000e+03\n",
              "max      1.475225e+08\n",
              "Name: April Employment, dtype: float64"
            ]
          },
          "metadata": {
            "tags": []
          },
          "execution_count": 27
        }
      ]
    },
    {
      "cell_type": "code",
      "metadata": {
        "id": "kxuIt81xly71",
        "colab_type": "code",
        "colab": {}
      },
      "source": [
        "import numpy as np\n"
      ],
      "execution_count": 0,
      "outputs": []
    },
    {
      "cell_type": "code",
      "metadata": {
        "id": "sgaQdcvXkNng",
        "colab_type": "code",
        "outputId": "0a4e9456-33c0-4317-c314-f4c3ffd5b321",
        "colab": {
          "base_uri": "https://localhost:8080/",
          "height": 182
        }
      },
      "source": [
        "df['Employment Location Quotient Relative to U.S.'].describe()"
      ],
      "execution_count": 30,
      "outputs": [
        {
          "output_type": "execute_result",
          "data": {
            "text/plain": [
              "count    56033.000000\n",
              "mean         1.084267\n",
              "std          3.323905\n",
              "min          0.000000\n",
              "25%          0.480000\n",
              "50%          0.850000\n",
              "75%          1.110000\n",
              "max        655.850000\n",
              "Name: Employment Location Quotient Relative to U.S., dtype: float64"
            ]
          },
          "metadata": {
            "tags": []
          },
          "execution_count": 30
        }
      ]
    },
    {
      "cell_type": "code",
      "metadata": {
        "id": "A5ULOmdjkgMB",
        "colab_type": "code",
        "colab": {
          "base_uri": "https://localhost:8080/",
          "height": 182
        },
        "outputId": "8b35cdd1-1814-42ad-8a62-bc092f0123bc"
      },
      "source": [
        "df['Total Wage Location Quotient Relative to U.S.'].describe()"
      ],
      "execution_count": 31,
      "outputs": [
        {
          "output_type": "execute_result",
          "data": {
            "text/plain": [
              "count    56033.000000\n",
              "mean         1.125547\n",
              "std          3.331689\n",
              "min          0.000000\n",
              "25%          0.400000\n",
              "50%          0.820000\n",
              "75%          1.150000\n",
              "max        620.910000\n",
              "Name: Total Wage Location Quotient Relative to U.S., dtype: float64"
            ]
          },
          "metadata": {
            "tags": []
          },
          "execution_count": 31
        }
      ]
    },
    {
      "cell_type": "code",
      "metadata": {
        "id": "qG1mgh1-0KC1",
        "colab_type": "code",
        "outputId": "99622c31-122e-4d51-aac7-891c33f80b85",
        "colab": {
          "base_uri": "https://localhost:8080/",
          "height": 182
        }
      },
      "source": [
        "df['Average Weekly Wage'].describe()"
      ],
      "execution_count": 33,
      "outputs": [
        {
          "output_type": "execute_result",
          "data": {
            "text/plain": [
              "count    56033.000000\n",
              "mean       784.927204\n",
              "std        378.885403\n",
              "min          0.000000\n",
              "25%        611.000000\n",
              "50%        770.000000\n",
              "75%        964.000000\n",
              "max       6538.000000\n",
              "Name: Average Weekly Wage, dtype: float64"
            ]
          },
          "metadata": {
            "tags": []
          },
          "execution_count": 33
        }
      ]
    },
    {
      "cell_type": "markdown",
      "metadata": {
        "id": "aL4LUFy81BUM",
        "colab_type": "text"
      },
      "source": [
        " How is your target distributed?\n",
        "\n",
        "\n",
        "Regression: Is the target right-skewed? If so, you may want to log transform the target.\n",
        "\n"
      ]
    },
    {
      "cell_type": "code",
      "metadata": {
        "id": "yrj-25bys6v5",
        "colab_type": "code",
        "colab": {
          "base_uri": "https://localhost:8080/",
          "height": 35
        },
        "outputId": "e261c828-b843-4342-9d85-acdb1715625e"
      },
      "source": [
        "#Meean baseline \n",
        "df['Average Weekly Wage'].mean()\n",
        "\n",
        "\n"
      ],
      "execution_count": 40,
      "outputs": [
        {
          "output_type": "execute_result",
          "data": {
            "text/plain": [
              "784.9272036121571"
            ]
          },
          "metadata": {
            "tags": []
          },
          "execution_count": 40
        }
      ]
    },
    {
      "cell_type": "code",
      "metadata": {
        "id": "O1rB7qFmaKj4",
        "colab_type": "code",
        "colab": {
          "base_uri": "https://localhost:8080/",
          "height": 35
        },
        "outputId": "18ddb152-9cd4-4f99-f2e9-4d2be3dfad2f"
      },
      "source": [
        "df.shape"
      ],
      "execution_count": 138,
      "outputs": [
        {
          "output_type": "execute_result",
          "data": {
            "text/plain": [
              "(62742, 18)"
            ]
          },
          "metadata": {
            "tags": []
          },
          "execution_count": 138
        }
      ]
    },
    {
      "cell_type": "code",
      "metadata": {
        "id": "snNpYXVAuu_o",
        "colab_type": "code",
        "colab": {
          "base_uri": "https://localhost:8080/",
          "height": 279
        },
        "outputId": "73858958-a546-4a42-8f80-77841ed1bd89"
      },
      "source": [
        "import seaborn as sns\n",
        "y= df['Average Weekly Wage']\n",
        "sns.distplot(y);"
      ],
      "execution_count": 16,
      "outputs": [
        {
          "output_type": "display_data",
          "data": {
            "image/png": "[encoded data removed]",
            "text/plain": [
              "<Figure size 432x288 with 1 Axes>"
            ]
          },
          "metadata": {
            "tags": []
          }
        }
      ]
    },
    {
      "cell_type": "markdown",
      "metadata": {
        "id": "Hp9JcU9zelk5",
        "colab_type": "text"
      },
      "source": [
        "### Lower bound and Upper Bound are numberic data. From following I will check whether they are outliers.  Do I need  exclude them? "
      ]
    },
    {
      "cell_type": "markdown",
      "metadata": {
        "id": "lFcEMXrG3_xf",
        "colab_type": "text"
      },
      "source": [
        "Yes, there are outliers. Some really high and some really low. I will remove the most extreme 1% wage."
      ]
    },
    {
      "cell_type": "code",
      "metadata": {
        "id": "WPvO8G9m4bNy",
        "colab_type": "code",
        "colab": {
          "base_uri": "https://localhost:8080/",
          "height": 35
        },
        "outputId": "e18dc70a-3811-4a79-8633-af0ae952f83e"
      },
      "source": [
        "import numpy as np\n",
        "df= df[(df['Average Weekly Wage'] >= np.percentile(df['Average Weekly Wage'],5))]\n",
        "df.shape     \n"
      ],
      "execution_count": 23,
      "outputs": [
        {
          "output_type": "execute_result",
          "data": {
            "text/plain": [
              "(62742, 15)"
            ]
          },
          "metadata": {
            "tags": []
          },
          "execution_count": 23
        }
      ]
    },
    {
      "cell_type": "code",
      "metadata": {
        "id": "cKZwzgOHEtcp",
        "colab_type": "code",
        "colab": {
          "base_uri": "https://localhost:8080/",
          "height": 279
        },
        "outputId": "aff0c017-94be-46d9-9742-b5d02f32f6ef"
      },
      "source": [
        "y=df['Average Weekly Wage']\n",
        "sns.distplot(y);"
      ],
      "execution_count": 24,
      "outputs": [
        {
          "output_type": "display_data",
          "data": {
            "image/png": "[encoded data removed]",
            "text/plain": [
              "<Figure size 432x288 with 1 Axes>"
            ]
          },
          "metadata": {
            "tags": []
          }
        }
      ]
    },
    {
      "cell_type": "markdown",
      "metadata": {
        "id": "7vsdON-g6GD2",
        "colab_type": "text"
      },
      "source": [
        "The shape is till same as before(right_skewed). So we need log -Transform the target.. "
      ]
    },
    {
      "cell_type": "code",
      "metadata": {
        "id": "_8uo0BcJ6i9-",
        "colab_type": "code",
        "colab": {
          "base_uri": "https://localhost:8080/",
          "height": 295
        },
        "outputId": "aebaae04-7cd9-4849-955f-bbf56ac20ee2"
      },
      "source": [
        "y_log = np.log1p(y)\n",
        "import matplotlib.pyplot as plt\n",
        "\n",
        "sns.distplot(y_log)\n",
        "plt.title('Log- transformed target, in log- dollars');"
      ],
      "execution_count": 25,
      "outputs": [
        {
          "output_type": "display_data",
          "data": {
            "image/png": "[encoded data removed]",
            "text/plain": [
              "<Figure size 432x288 with 1 Axes>"
            ]
          },
          "metadata": {
            "tags": []
          }
        }
      ]
    },
    {
      "cell_type": "code",
      "metadata": {
        "id": "tbHroLzk6i57",
        "colab_type": "code",
        "colab": {
          "base_uri": "https://localhost:8080/",
          "height": 295
        },
        "outputId": "3781c27f-3de1-4bd1-e168-5f2ef63b222c"
      },
      "source": [
        "y_untransformed = np.expm1(y_log)\n",
        "sns.distplot(y_untransformed)\n",
        "plt.title('Back to the original units');"
      ],
      "execution_count": 26,
      "outputs": [
        {
          "output_type": "display_data",
          "data": {
            "image/png": "[encoded data removed]",
            "text/plain": [
              "<Figure size 432x288 with 1 Axes>"
            ]
          },
          "metadata": {
            "tags": []
          }
        }
      ]
    },
    {
      "cell_type": "code",
      "metadata": {
        "id": "chrbXiDeZFBj",
        "colab_type": "code",
        "colab": {}
      },
      "source": [
        "y= y_untransformed"
      ],
      "execution_count": 0,
      "outputs": []
    },
    {
      "cell_type": "code",
      "metadata": {
        "id": "vlxJxEnQ6i1d",
        "colab_type": "code",
        "colab": {}
      },
      "source": [
        "from sklearn.model_selection import train_test_split\n"
      ],
      "execution_count": 0,
      "outputs": []
    },
    {
      "cell_type": "code",
      "metadata": {
        "id": "RR2icAZBRzho",
        "colab_type": "code",
        "colab": {}
      },
      "source": [
        "\n",
        "X_train, X_test, y_train, y_test = train_test_split(df, y, test_size=0.2)\n"
      ],
      "execution_count": 0,
      "outputs": []
    },
    {
      "cell_type": "code",
      "metadata": {
        "id": "z5XXuX-vSLnd",
        "colab_type": "code",
        "colab": {
          "base_uri": "https://localhost:8080/",
          "height": 54
        },
        "outputId": "bb5b6d73-91d8-49be-c0c8-52beb5dbb3ce"
      },
      "source": [
        "print (X_train.shape, y_train.shape)\n",
        "print (X_test.shape, y_test.shape)\n"
      ],
      "execution_count": 30,
      "outputs": [
        {
          "output_type": "stream",
          "text": [
            "(50193, 15) (50193,)\n",
            "(12549, 15) (12549,)\n"
          ],
          "name": "stdout"
        }
      ]
    },
    {
      "cell_type": "code",
      "metadata": {
        "id": "ZViRq3DXT1vE",
        "colab_type": "code",
        "colab": {
          "base_uri": "https://localhost:8080/",
          "height": 54
        },
        "outputId": "f42c269a-7b38-4e07-98d9-2c6be5f22d3e"
      },
      "source": [
        "X_train, X_val, y_train, y_val = train_test_split(X_train, y_train, test_size=0.2)\n",
        "print (X_train.shape, y_train.shape)\n",
        "print (X_val.shape, y_val.shape)"
      ],
      "execution_count": 31,
      "outputs": [
        {
          "output_type": "stream",
          "text": [
            "(40154, 15) (40154,)\n",
            "(10039, 15) (10039,)\n"
          ],
          "name": "stdout"
        }
      ]
    },
    {
      "cell_type": "code",
      "metadata": {
        "id": "SKF_zYTCSRfc",
        "colab_type": "code",
        "colab": {}
      },
      "source": [
        "target = 'Average Weekly Wage'\n",
        "features= df.columns. drop([target])"
      ],
      "execution_count": 0,
      "outputs": []
    },
    {
      "cell_type": "code",
      "metadata": {
        "id": "NAUp68N7whmc",
        "colab_type": "code",
        "outputId": "f9f4b310-9e62-46a0-81a2-3820e079d318",
        "colab": {
          "base_uri": "https://localhost:8080/",
          "height": 219
        }
      },
      "source": [
        "!pip install category_encoders==2.*"
      ],
      "execution_count": 0,
      "outputs": [
        {
          "output_type": "stream",
          "text": [
            "Requirement already satisfied: category_encoders==2.* in /usr/local/lib/python3.6/dist-packages (2.1.0)\n",
            "Requirement already satisfied: scipy>=0.19.0 in /usr/local/lib/python3.6/dist-packages (from category_encoders==2.*) (1.4.1)\n",
            "Requirement already satisfied: pandas>=0.21.1 in /usr/local/lib/python3.6/dist-packages (from category_encoders==2.*) (0.25.3)\n",
            "Requirement already satisfied: scikit-learn>=0.20.0 in /usr/local/lib/python3.6/dist-packages (from category_encoders==2.*) (0.22.1)\n",
            "Requirement already satisfied: numpy>=1.11.3 in /usr/local/lib/python3.6/dist-packages (from category_encoders==2.*) (1.17.5)\n",
            "Requirement already satisfied: patsy>=0.4.1 in /usr/local/lib/python3.6/dist-packages (from category_encoders==2.*) (0.5.1)\n",
            "Requirement already satisfied: statsmodels>=0.6.1 in /usr/local/lib/python3.6/dist-packages (from category_encoders==2.*) (0.10.2)\n",
            "Requirement already satisfied: pytz>=2017.2 in /usr/local/lib/python3.6/dist-packages (from pandas>=0.21.1->category_encoders==2.*) (2018.9)\n",
            "Requirement already satisfied: python-dateutil>=2.6.1 in /usr/local/lib/python3.6/dist-packages (from pandas>=0.21.1->category_encoders==2.*) (2.6.1)\n",
            "Requirement already satisfied: joblib>=0.11 in /usr/local/lib/python3.6/dist-packages (from scikit-learn>=0.20.0->category_encoders==2.*) (0.14.1)\n",
            "Requirement already satisfied: six in /usr/local/lib/python3.6/dist-packages (from patsy>=0.4.1->category_encoders==2.*) (1.12.0)\n"
          ],
          "name": "stdout"
        }
      ]
    },
    {
      "cell_type": "code",
      "metadata": {
        "id": "uvd1g22obm7K",
        "colab_type": "code",
        "colab": {}
      },
      "source": [
        ""
      ],
      "execution_count": 0,
      "outputs": []
    },
    {
      "cell_type": "code",
      "metadata": {
        "id": "2dVVKeVhyzNe",
        "colab_type": "code",
        "colab": {}
      },
      "source": [
        "%matplotlib inline\n",
        "import category_encoders as ce\n",
        "import matplotlib.pyplot as plt\n",
        "import numpy as np\n",
        "import pandas as pd\n",
        "import seaborn as sns\n",
        "from sklearn.impute import SimpleImputer\n",
        "from sklearn.metrics import accuracy_score\n",
        "from sklearn.model_selection import train_test_split\n",
        "from sklearn.pipeline import make_pipeline\n",
        "from sklearn.ensemble import RandomForestRegressor\n"
      ],
      "execution_count": 0,
      "outputs": []
    },
    {
      "cell_type": "code",
      "metadata": {
        "id": "5kAARZAZuhOH",
        "colab_type": "code",
        "outputId": "dbfaf97c-6c2b-4315-d431-a64aa75d864c",
        "colab": {
          "base_uri": "https://localhost:8080/",
          "height": 35
        }
      },
      "source": [
        "\n",
        "\n",
        "\n",
        "pipeline = make_pipeline(\n",
        "    ce.OneHotEncoder(use_cat_names=True), \n",
        "    SimpleImputer(strategy='median'), \n",
        "    RandomForestRegressor(max_depth=2)\n",
        ")\n",
        "pipeline.fit(X_train,y_train)\n",
        "print('Validation Accuracy:', pipeline.score(X_val,y_val))"
      ],
      "execution_count": 34,
      "outputs": [
        {
          "output_type": "stream",
          "text": [
            "Validation Accuracy: 0.8491232524759184\n"
          ],
          "name": "stdout"
        }
      ]
    },
    {
      "cell_type": "markdown",
      "metadata": {
        "id": "uQCN_jojWTCA",
        "colab_type": "text"
      },
      "source": [
        "Validation Accuracy: 0.85 "
      ]
    },
    {
      "cell_type": "code",
      "metadata": {
        "id": "V1jk0UQ4r3UW",
        "colab_type": "code",
        "colab": {}
      },
      "source": [
        "import graphviz"
      ],
      "execution_count": 0,
      "outputs": []
    },
    {
      "cell_type": "code",
      "metadata": {
        "id": "tgYW9q3vWvHE",
        "colab_type": "code",
        "colab": {}
      },
      "source": [
        "# This score is too good to be true.\n",
        "# Visualize the RandomeForestClassification to see what the model \"learned\"\n",
        "target = 'Average Weekly Wage'\n",
        "features= df.columns. drop([target])\n",
        "X_train =X_train[features]\n",
        "\n",
        "X_val = X_val[features]\n"
      ],
      "execution_count": 0,
      "outputs": []
    },
    {
      "cell_type": "code",
      "metadata": {
        "id": "VXYSuQT_cJjR",
        "colab_type": "code",
        "colab": {}
      },
      "source": [
        "from sklearn.tree import export_graphviz\n",
        "\n",
        "tree = pipeline.named_steps['randomforestregressor']\n",
        "\n",
        "dot_data = export_graphviz(\n",
        "    tree, \n",
        "    out_file = None,\n",
        "    feature_names=X_train.columns, \n",
        "    class_names=y_train.unique().astype(str), \n",
        "    filled=True, \n",
        "    impurity=False\n",
        ")\n",
        "\n",
        "graphviz.Source(dot_data)"
      ],
      "execution_count": 0,
      "outputs": []
    },
    {
      "cell_type": "code",
      "metadata": {
        "id": "5uWaufgxP_WU",
        "colab_type": "code",
        "colab": {}
      },
      "source": [
        ""
      ],
      "execution_count": 0,
      "outputs": []
    },
    {
      "cell_type": "code",
      "metadata": {
        "id": "nzk0gX94P_Qu",
        "colab_type": "code",
        "colab": {}
      },
      "source": [
        ""
      ],
      "execution_count": 0,
      "outputs": []
    }
  ]
}